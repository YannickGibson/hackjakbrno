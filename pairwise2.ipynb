{
 "cells": [
  {
   "cell_type": "code",
   "execution_count": 1,
   "metadata": {},
   "outputs": [
    {
     "name": "stdout",
     "output_type": "stream",
     "text": [
      "Loading gene sequences...\n"
     ]
    },
    {
     "name": "stderr",
     "output_type": "stream",
     "text": [
      "100%|██████████| 6/6 [00:00<00:00, 461.50it/s]\n"
     ]
    }
   ],
   "source": [
    "# load gene paths in GENE_FOLDER directory and load using SeqIO\n",
    "import os\n",
    "GENES = []\n",
    "from Bio import SeqIO\n",
    "from tqdm import tqdm\n",
    "GENE_FOLDER = r'data/resistance_genes_sequence/'\n",
    "\n",
    "# load all files in the GENE_FOLDER\n",
    "print('Loading gene sequences...')\n",
    "for file in tqdm(os.listdir(GENE_FOLDER)):\n",
    "    with open(GENE_FOLDER + file, 'r') as gene_file:\n",
    "        for record in SeqIO.parse(gene_file, 'fasta'):\n",
    "            GENES.append(record)"
   ]
  },
  {
   "cell_type": "code",
   "execution_count": 2,
   "metadata": {},
   "outputs": [
    {
     "name": "stdout",
     "output_type": "stream",
     "text": [
      "ACCGT\n",
      "| || \n",
      "A-CG-\n",
      "  Score=3\n",
      "\n",
      "ACCGT\n",
      "|| | \n",
      "AC-G-\n",
      "  Score=3\n",
      "\n"
     ]
    },
    {
     "name": "stderr",
     "output_type": "stream",
     "text": [
      "c:\\Users\\yannick.gibson\\AppData\\Local\\anaconda3\\envs\\bohunice2\\Lib\\site-packages\\Bio\\pairwise2.py:278: BiopythonDeprecationWarning: Bio.pairwise2 has been deprecated, and we intend to remove it in a future release of Biopython. As an alternative, please consider using Bio.Align.PairwiseAligner as a replacement, and contact the Biopython developers if you still need the Bio.pairwise2 module.\n",
      "  warnings.warn(\n"
     ]
    }
   ],
   "source": [
    "from Bio import pairwise2\n",
    "from Bio.pairwise2 import format_alignment\n",
    "\n",
    "for a in pairwise2.align.globalxx(\"ACCGT\", \"ACG\"):\n",
    "    print(format_alignment(*a))"
   ]
  },
  {
   "cell_type": "code",
   "execution_count": 3,
   "metadata": {},
   "outputs": [
    {
     "name": "stdout",
     "output_type": "stream",
     "text": [
      "GTTTATGTT-A-AC-CTG-ACC-GTT--A-TCAACCGG-GTG---TT------T-A--A--CCT---CGCG-T--CCTGTTACGA-GAAC-T-CATGT--T---TTC---GC-ATTTA--TC-G-T-GAA--A----CG----C--T--TT-C-GCGTTTTT-CG-T--GCG------CCG-CTT--CAG-TGCTG-T----T--GCT-T--TG--A---ATGGCAGC---A-G-GC-AG-CTTTCTTTTT---TCCCGGCGC-CGA-T---AT-A-A---CCCA-CT--T-CC-GGCCA-CAA--TA---A-CCC-CACCA-GG--GGTA-A-TT-C-GATAAGCCCC--TTCAGG---GA-T-A-T-AGATTGTTCC-GCCGCCATT-A-GCCCCAGCCAGTTTGTCGCC-CG-CTGCAG-G-G------GATAC-CA-C-ATG-TC-C--TC-GGAA---G--A----AAACGGGTC--A---AGCC-CAC-A-CTC--TC-----T-GGC---A----TCAAGAACAC-GTCGC--CG-TTCCAGAT--GC-T---CAGA--AAGT-C---GCT-TAT---T-CAGCCTTTTGA-TATT--CTCCTGA--AC-GC-TCC--C-CT--GC--AGGCCGGGTAACTG---A-A-CGCCGC--CAAT----TGGC---ACTGT-TGCA-A-----A-G-TT--A-G---CGA-TGAG-G-CAGCCTTTTGTCT-ATTCAAA-GGCC-T-----TAC-ATTTCAAAAACTCTG-C-TTAC-CAGGC---GCATTTCGCC---C-A-GG---G--G-ATCA-C---C-ATAA-TA-A--AA-TGCTG-A-G-GC---CT-GG-C-CTT--TGCGTAG----TG-CA-----C---GCATCACC-T-CAATACCT-TT-GAT-G-GT--GG-C---GTAAGC-CGTCT-----TCA--TGGAT-TT-A-AATCC-CAGCGT--GGC-GCCGATTA-TCCGTT-TCAGTTTGCCATGATCG-CATTC-AAT-CACGTTGTTCC--G-G-TACTTA---AT-C-TGTCG-GTGTTTAACGTGCGAT\n",
      "    |||   | || | | |   |    | | || ||| | |   ||      | |  |  ||    | || |  ||||||  || |    | ||||   |   ||    || | ||   || | | |||  |    ||    |  |  || | |||   || || |  |||      ||| | |  ||  || || |    |  ||  |  ||  |   ||  || |   | | |  || |  ||    |   |   ||||| ||  |   || | |   |||  |   | || ||||  |    |    | ||| ||  | ||  ||   | || | | |  |      ||| ||   |  | | | | | | || | |  |   || | | |||  || |   | || | || | |||| | |      |||   || | ||| || |  |  ||     |  |    ||||  | |  |   |||| ||| | |||  ||     | ||    |    ||  |  | | ||||   || || | | |  || |   | |   |||  |   ||| | |   | | |||    |  ||    |||| |   || || |    | ||  ||  ||| | |||   ||   | | | || |  |||     |||    || || || | |     | | ||  | |   ||  |||  | | |||   ||    |   ||| || | |     ||| | |||  |||  | | | || | |  |    || ||| | |   | | ||   |  | ||   |   | | || || |  || ||||  | | |    || || | |    | || ||    || |      |   || |||   | |  ||||| || ||  | |   || |   ||  |  ||| |     |||  |  || || | ||    || | |  ||  |||    | ||||   || |  ||||| |  |  ||  | ||  | |   |  ||  | | | |||    |  | | ||  | | || |     |  \n",
      "----ATG--CATACGC-GGA--AG--GCAAT-AA-CGGAG-GCAATTCGAAAATTAGGAGTCC-AAAC-CGGTGACCTGTT--GATG---GTGCATG-CCTCACTT-AAAGCGA-TT-GGTCCGGTCGAAGGAGGAGCGGAGACGGTCGTTGCCGCG---TTACGCTCCGCGGTTGGGCCGAC-TGGCA-CTG-TGATGGGATACGC-GTCGTGGGACCGAT--CA-CCCTACGAG-GAGAC--TC----TGAAT---GGCGCTCG-GTTGGATGACAAAGCCC-GC-CGTACCTGGCC-GC--CGT-TCGATCCCGCA--ACGGCCGG--GACTTACCG-T--G----GGTTC-GGCCTG-CTGAATCA-A-T-TT-CTG--G---TTCAAG-CCC--CC-G---G-CG-CGCGGC-GCAGCGCGCACCCCGAT--GCATCGATGGTCGCGGT-TGG--TCCGCTAGCTGAAAC--G-CTGACGGAGCCTCACGAACTCGGTCACGCCTTGG-GGGAAGGGTC--G--C-CCGTCG-AGCGGTT-C-G-TCCGCCTTGGC-G-GGAAG-GCCCTGCTGT-TGGGTGC-GCC----G-CTA--AACTCC-G-TTACCGCAT--TGCACTACGCCGAGG-C-GGT---TGCGGATATC-CC-CAACAA-ACGATGG-GTGAC-GTATG-AGATGCCGATGCTTGGAAGAAACG-GTGA-AGTC-GCC---TG---GA---AAACGG-CATCAGAATACGA-TTC--AAA--C-GGCATT-CTC--G-ATTGC-TTT-G-CTATCGAAGGAAAGCCGGAT--GCGGTCGA-AACTATAGCAAATGCT-TACGTG-AAGCTCGGTCGC--CAT-CG-AGAAGGTGTC-GTGGGCTTTGC-TCA--GTGC--TACCTGTTCGA-CGCG-CAGGACATCGT--G-ACGT-TCGGCGTCACCT--ATCTTGAGAA---GCA-C-TTCGG-AGCC----ACTCCG--ATC-G--TGCCA-G--C-ACA--CGAA-GC-C---G--CCCAGCGCT-CTT-GCGA-GCCT-TC-CG-G-TT-A-----G--\n",
      "  Score=499\n",
      "\n"
     ]
    }
   ],
   "source": [
    "slc = \"\"\"GTTTATGTTAACCTGACCGTTATCAACCGGGTGTTTAACCTCGCGTCCTGTTACGAGAACTCATGTTTTCGCATTTATCGTGAAACGCTTTCGCGTTTTTCGTGCGCCGCTTCAGTGCTGTTGCTTTGAATGGCAGCAGGCAGCTTTCTTTTTTCCCGGCGCCGATATAACCCACTTCCGGCCACAATAACCCCACCAGGGGTAATTCGATAAGCCCCTTCAGGGATATAGATTGTTCCGCCGCCATTAGCCCCAGCCAGTTTGTCGCCCGCTGCAGGGGATACCACATGTCCTCGGAAGAAAACGGGTCAAGCCCACACTCTCTGGCATCAAGAACACGTCGCCGTTCCAGATGCTCAGAAAGTCGCTTATTCAGCCTTTTGATATTCTCCTGAACGCTCCCCTGCAGGCCGGGTAACTGAACGCCGCCAATTGGCACTGTTGCAAAGTTAGCGATGAGGCAGCCTTTTGTCTATTCAAAGGCCTTACATTTCAAAAACTCTGCTTACCAGGCGCATTTCGCCCAGGGGATCACCATAATAAAATGCTGAGGCCTGGCCTTTGCGTAGTGCACGCATCACCTCAATACCTTTGATGGTGGCGTAAGCCGTCTTCATGGATTTAAATCCCAGCGTGGCGCCGATTATCCGTTTCAGTTTGCCATGATCGCATTCAATCACGTTGTTCCGGTACTTAATCTGTCGGTGTTTAACGTGCGAT\"\"\"\n",
    "\n",
    "for a in pairwise2.align.globalxx(slc, GENES[0].seq, one_alignment_only=True):\n",
    "    print(format_alignment(*a))"
   ]
  },
  {
   "cell_type": "code",
   "execution_count": null,
   "metadata": {},
   "outputs": [
    {
     "name": "stdout",
     "output_type": "stream",
     "text": [
      "4000\n"
     ]
    },
    {
     "name": "stderr",
     "output_type": "stream",
     "text": [
      "Max score: 654.8000000000006:   1%|          | 37/4000 [00:46<1:22:18,  1.25s/it]\n"
     ]
    },
    {
     "ename": "KeyboardInterrupt",
     "evalue": "",
     "output_type": "error",
     "traceback": [
      "\u001b[1;31m---------------------------------------------------------------------------\u001b[0m",
      "\u001b[1;31mKeyboardInterrupt\u001b[0m                         Traceback (most recent call last)",
      "Cell \u001b[1;32mIn[5], line 21\u001b[0m\n\u001b[0;32m     19\u001b[0m gap_extending_penalty \u001b[38;5;241m=\u001b[39m \u001b[38;5;241m-\u001b[39m\u001b[38;5;241m.3\u001b[39m\n\u001b[0;32m     20\u001b[0m gap_penalty \u001b[38;5;241m=\u001b[39m \u001b[38;5;241m-\u001b[39m\u001b[38;5;241m2\u001b[39m\n\u001b[1;32m---> 21\u001b[0m _alignments \u001b[38;5;241m=\u001b[39m \u001b[43mpairwise2\u001b[49m\u001b[38;5;241;43m.\u001b[39;49m\u001b[43malign\u001b[49m\u001b[38;5;241;43m.\u001b[39;49m\u001b[43mlocalms\u001b[49m\u001b[43m(\u001b[49m\u001b[43mslc\u001b[49m\u001b[43m,\u001b[49m\u001b[43m \u001b[49m\u001b[43mGENES\u001b[49m\u001b[43m[\u001b[49m\u001b[38;5;241;43m0\u001b[39;49m\u001b[43m]\u001b[49m\u001b[38;5;241;43m.\u001b[39;49m\u001b[43mseq\u001b[49m\u001b[43m,\u001b[49m\u001b[43m \u001b[49m\u001b[43mmatch_bonus\u001b[49m\u001b[43m,\u001b[49m\u001b[43m \u001b[49m\u001b[43mmismatch_penalty\u001b[49m\u001b[43m,\u001b[49m\u001b[43m \u001b[49m\u001b[43mgap_penalty\u001b[49m\u001b[43m,\u001b[49m\u001b[43m \u001b[49m\u001b[43mgap_extending_penalty\u001b[49m\u001b[43m,\u001b[49m\u001b[43m \u001b[49m\u001b[43mone_alignment_only\u001b[49m\u001b[38;5;241;43m=\u001b[39;49m\u001b[38;5;28;43;01mTrue\u001b[39;49;00m\u001b[43m)\u001b[49m\n\u001b[0;32m     22\u001b[0m alignments\u001b[38;5;241m.\u001b[39mappend(_alignments[\u001b[38;5;241m0\u001b[39m])\n\u001b[0;32m     24\u001b[0m max_score \u001b[38;5;241m=\u001b[39m \u001b[38;5;28mmax\u001b[39m(max_score, _alignments[\u001b[38;5;241m0\u001b[39m]\u001b[38;5;241m.\u001b[39mscore)\n",
      "File \u001b[1;32mc:\\Users\\yannick.gibson\\AppData\\Local\\anaconda3\\envs\\bohunice2\\Lib\\site-packages\\Bio\\pairwise2.py:502\u001b[0m, in \u001b[0;36malign.alignment_function.__call__\u001b[1;34m(self, *args, **keywds)\u001b[0m\n\u001b[0;32m    500\u001b[0m \u001b[38;5;250m\u001b[39m\u001b[38;5;124;03m\"\"\"Call the alignment instance already created.\"\"\"\u001b[39;00m\n\u001b[0;32m    501\u001b[0m keywds \u001b[38;5;241m=\u001b[39m \u001b[38;5;28mself\u001b[39m\u001b[38;5;241m.\u001b[39mdecode(\u001b[38;5;241m*\u001b[39margs, \u001b[38;5;241m*\u001b[39m\u001b[38;5;241m*\u001b[39mkeywds)\n\u001b[1;32m--> 502\u001b[0m \u001b[38;5;28;01mreturn\u001b[39;00m \u001b[43m_align\u001b[49m\u001b[43m(\u001b[49m\u001b[38;5;241;43m*\u001b[39;49m\u001b[38;5;241;43m*\u001b[39;49m\u001b[43mkeywds\u001b[49m\u001b[43m)\u001b[49m\n",
      "File \u001b[1;32mc:\\Users\\yannick.gibson\\AppData\\Local\\anaconda3\\envs\\bohunice2\\Lib\\site-packages\\Bio\\pairwise2.py:603\u001b[0m, in \u001b[0;36m_align\u001b[1;34m(sequenceA, sequenceB, match_fn, gap_A_fn, gap_B_fn, penalize_extend_when_opening, penalize_end_gaps, align_globally, gap_char, force_generic, score_only, one_alignment_only)\u001b[0m\n\u001b[0;32m    600\u001b[0m \u001b[38;5;28;01mif\u001b[39;00m score_only:\n\u001b[0;32m    601\u001b[0m     \u001b[38;5;28;01mreturn\u001b[39;00m best_score\n\u001b[1;32m--> 603\u001b[0m starts \u001b[38;5;241m=\u001b[39m \u001b[43m_find_start\u001b[49m\u001b[43m(\u001b[49m\u001b[43mscore_matrix\u001b[49m\u001b[43m,\u001b[49m\u001b[43m \u001b[49m\u001b[43mbest_score\u001b[49m\u001b[43m,\u001b[49m\u001b[43m \u001b[49m\u001b[43malign_globally\u001b[49m\u001b[43m)\u001b[49m\n\u001b[0;32m    605\u001b[0m \u001b[38;5;66;03m# Recover the alignments and return them.\u001b[39;00m\n\u001b[0;32m    606\u001b[0m alignments \u001b[38;5;241m=\u001b[39m _recover_alignments(\n\u001b[0;32m    607\u001b[0m     sequenceA,\n\u001b[0;32m    608\u001b[0m     sequenceB,\n\u001b[1;32m   (...)\u001b[0m\n\u001b[0;32m    617\u001b[0m     gap_B_fn,\n\u001b[0;32m    618\u001b[0m )\n",
      "File \u001b[1;32mc:\\Users\\yannick.gibson\\AppData\\Local\\anaconda3\\envs\\bohunice2\\Lib\\site-packages\\Bio\\pairwise2.py:1123\u001b[0m, in \u001b[0;36m_find_start\u001b[1;34m(score_matrix, best_score, align_globally)\u001b[0m\n\u001b[0;32m   1121\u001b[0m         \u001b[38;5;28;01mfor\u001b[39;00m col \u001b[38;5;129;01min\u001b[39;00m \u001b[38;5;28mrange\u001b[39m(ncols):\n\u001b[0;32m   1122\u001b[0m             score \u001b[38;5;241m=\u001b[39m score_matrix[row][col]\n\u001b[1;32m-> 1123\u001b[0m             \u001b[38;5;28;01mif\u001b[39;00m \u001b[43mrint\u001b[49m\u001b[43m(\u001b[49m\u001b[38;5;28;43mabs\u001b[39;49m\u001b[43m(\u001b[49m\u001b[43mscore\u001b[49m\u001b[43m \u001b[49m\u001b[38;5;241;43m-\u001b[39;49m\u001b[43m \u001b[49m\u001b[43mbest_score\u001b[49m\u001b[43m)\u001b[49m\u001b[43m)\u001b[49m \u001b[38;5;241m<\u001b[39m\u001b[38;5;241m=\u001b[39m rint(tolerance):\n\u001b[0;32m   1124\u001b[0m                 starts\u001b[38;5;241m.\u001b[39mappend((score, (row, col)))\n\u001b[0;32m   1125\u001b[0m \u001b[38;5;28;01mreturn\u001b[39;00m starts\n",
      "\u001b[1;31mKeyboardInterrupt\u001b[0m: "
     ]
    }
   ],
   "source": [
    "from Bio import pairwise2\n",
    "from Bio.pairwise2 import format_alignment\n",
    "\n",
    "with open(r'C:\\Users\\yannick.gibson\\projects\\others\\_challenges\\nemocnice_bohunice\\8\\data\\sequencing_data\\barcode20\\PAQ63858_pass_barcode20_33cbe55b_d2f2cde4_1.fastq', 'r') as file:\n",
    "    record_len = sum(1 for record in SeqIO.parse(file, 'fastq'))\n",
    "    print(record_len)\n",
    "alignments = []\n",
    "max_score = 0\n",
    "with open(r'C:\\Users\\yannick.gibson\\projects\\others\\_challenges\\nemocnice_bohunice\\8\\data\\sequencing_data\\barcode20\\PAQ63858_pass_barcode20_33cbe55b_d2f2cde4_20.fastq', 'r') as file:\n",
    "    iterate_to = 4000\n",
    "    iterate_to = min(iterate_to, record_len)\n",
    "    pbar = tqdm(enumerate(SeqIO.parse(file, 'fastq')), total=iterate_to)\n",
    "    for i, record in pbar:\n",
    "        if i >= iterate_to:\n",
    "            break\n",
    "        slc = str(record.seq)\n",
    "        match_bonus = 2\n",
    "        mismatch_penalty = -3\n",
    "        gap_extending_penalty = -.3\n",
    "        gap_penalty = -2\n",
    "        _alignments = pairwise2.align.localms(slc, GENES[0].seq, match_bonus, mismatch_penalty, gap_penalty, gap_extending_penalty, one_alignment_only=True)\n",
    "        alignments.append(_alignments[0])\n",
    "\n",
    "        if max_score < _alignments[0].score:\n",
    "            print(format_alignment(*_alignments[0]))\n",
    "        max_score = max(max_score, _alignments[0].score)\n",
    "        pbar.set_description(f'Max score: {max_score}')"
   ]
  },
  {
   "cell_type": "code",
   "execution_count": 42,
   "metadata": {},
   "outputs": [
    {
     "data": {
      "text/plain": [
       "100"
      ]
     },
     "execution_count": 42,
     "metadata": {},
     "output_type": "execute_result"
    }
   ],
   "source": [
    "len(alignments)"
   ]
  },
  {
   "cell_type": "code",
   "execution_count": 51,
   "metadata": {},
   "outputs": [
    {
     "data": {
      "text/plain": [
       "'2285 ATTCA-ACGTGTTGTTCGCCAGCCGGAAACGGCATCTA-AA--GAGG-AAGATCGTTCATGAA----AGCCGTAGTCTTCGCTTATCACGATATGGGCTGCACCGGT-ATCCAGTCCCTGCTGGACGCCGGGTATGATATCGCTGCTATTTTCA-CC-CACCCGGAT--AACCCTGGCGAAAACCATTTCTTTGGCTCCGTGGCGCGCCTTGCCGCCGA--GCAGG-GTATTCCGGTGTGTAGGCTTACGGAAG-CGTGAACCAT-CCGCTGTGGATTGA-GCGTATCCGCGAT---GAAACCGGACGTGCTGTTCTCCTTCTACTATCGCAACCTGCTGGGCGATGAGAT-C-C-TCGATCTGGCG-CCGAAAGGGGCGTTCAACCTGCACG-GTTCG---CTGCTGCCAGAATACTCGCGGCCGCGCGCCGCTGAACTGGGTGCTGGTCAATGGCGAAAGCGAAACCGGCGTCACCCTGCACCGGATGGTGAACCGCGCAGACGCTGGCGATATCGTCGCCCAGCA--GGCCGTGG------CGATTGGCG--CGGATGACGCCGCCCTGACGCTG---CA---TC--GT--AAGCTGTGCGCTGCCGCCACTGAGCTGCTGAGCCGGGCGCTGCCAGCGATCCTCGCCGGCACCACCGATGAGCGTCCGCAGGATCACAGCCAGGCAACCTATGTGGGGCGTCGTACCCGGAAGAT-GG-CCGGCTGGA-CTGGGA---GCTGCCGGCGCAGACCCTGCAC-AATCTGGTGCGTGCGGTCTCGGATCCGTCGCC--GGGCACCTCGGCTA-----CGCC-G--GAGCGAACAAGTTTATCGT----CT-----GGAAAT--CCC-GC-GTTCGCCACGATTTGCCAGCAGCTAAAC-CGGGC---ACCGTGCTCTCCATTGCTCCG-CTGATCGTCGCGTGCCAGGACGGG--GCGCTGGAGATTGTCA-CCGGCCAGACCGAA-CGC--GGCGTGTAC--ATGCAGGGCGCTCA-GCTGGCGCAGGCGCTGGGCCTGGTGTCCGGGGCGGTGATCAGCAGCAAACCGGTGGTGGCGATTAAGCGTCGCACCCGGGTGCTG--ATCCTCGGCGTCAACGGCTTTATC-GGTAACCACCTGACCGAGCGCCTGCTCAGCAGGCGCTCGGTGA-GGTCATTCTGCCGATAAAGCCGTTGACGCCGAGGATGCGCGCCCATGCTTAATCGCCACCACCGGTTTGCTGCTCATC--ACCGCCCCCGGAACAGCCAGGCCCAGCGCCTGCGCCAGCGTCATCACGCCGCGTTCGTCTGGCCCATGAGAATCTCCAGCGCCCCGTATTGGCACGCGAATCG---AGCGGCAATGGAGAGCGCGGTCCCCGGTTTACTGCTGGCAATCATAGCGACACAGACT-GGGCGTAAACTTGTTCGCTCCCCGGCGTAGCCGAAGGCGGGGCCAGGCCGCGGAATTGAGAACCGCGCGCGCCAGATTG-TGCAGGGTCTGCGCCGGCAGCTCCATCCCTGGCCATCTTTGGGGTACGACGCCCCGC-------CGTGACCGTTCGGCTGTGATCCTCCGGACGCTCATCGGTGGTGC----GCGGATCGCTGG-CGGCACCCACTGGCCGCTGAGTGGCG-GCGTTTCACCGC-CGCTTACGATGCAGCGTCAG--CAGCGTGGTCGATCGTGGCGACATCGCCACCTGCGCAGTTCCGCGTCGTGCAG\\n     ||.|| |||              |||||  ||||   | ||  |||| ||     |||  |||    ||  | ||||         ||  |          |||||| |       |||            || ||||   |.||| ||      || |||     |  ||     ||||           |||| |||| |       |      |||  | ||| |     |||     ||    |||   | |||      | ||||    | || | ||   ||||||.|   |   || ||| ||                   |||  ||| |    ||||.||| | | |||   ||| | ||||         |||.|||  ||| |   |   || ||    ||||      ||        ||||   |  |||  |||   |||.| |||||    |||.||| |||          |||    ||||     ||.|  ||||       ||| |||  ||||| ||      ||  ||| |  |||          |||   ||||   ||   ||  ||  ||||         || ||   | || ||   ||  ||||    |||||        | ||||| |||||  ||         |||   |           |||      ||||    |||    | || || |||  | ||  ||   ||||.|||   ||  ||| ||| || ||        |||||    |     ||||  |||      ||  |     |||| |  |||||     ||   ||||    ||     ||||    ||| || |||.|    |   |||  ||.||||||| |   |   ||||       ||||||     || | || | ||    ||| | ||  |||     |||    | ||  ||| ||  || ||   || ||| ||  ||| ||       | ||   || |     ||   ||  ||           ||     || ||| |||||         ||  |||||         |||  |           ||||||   ||| |  ||     | | |||     |  |||  |           | || ||||||  ||||                              |||||                    |||| |||  |        |||| |||| ||   |     ||||     |||                         || || ||  |        ||   |||    ||| |   | ||    | || |||.|||||           ||       |||  ||    |||   ||         |||           |||           ||||            |                    ||| | ||  ||           |||  |  ||||      ||       |||||   |||       ||||| ||||||||   | ||      || || |||  |  ||     ||  |   ||   ||| |.|||||  ||   || |  || ||    ||  || |    ||||   |||  | |  |||||    |  || |.||||    |||          ||||| ||  |  ||\\n   1 ATGCATACG--------------CGGAA--GGCA---ATAACGGAGGCAA-----TTC--GAAAATTAG--G-AGTC---------CA--A----------ACCGGTGA-------CCT------------GT-TGAT---GGTGC-AT-----GCCTCAC-----TTAAA-----GCGA-----------TTGG-TCCG-G-------T------CGAAGG-AGGAG-----CGG-----AG----ACG---GTCGT------TGCCGC----G-TT-ACGC---TCCGCGGTTGGG---CC-GAC-TG-------------------GCA--CTG-T----GATGGGATACGCGTCG---TGG-GACCGA---------TCACCCT--ACGAG---GAGACT-CT----GAAT------GG--------CGCT---C--GGT--TGG---ATGAC-AAAGC----CCGCCGT-ACC----------TGG----CCGC-----CGTT--CGAT-------CCC-GCAACGGCCG-GGACTTACCG--TGG-GTTCGG----------CCT---GCTGAATCAATTTCTGGTTCAAGC---------CC-CC---G-GC-GC---GC--GGCG----CAGCG--------C-GCACC-CCGAT--GC---------ATC---G-----------ATG------GTCG----CGG----TTGGTCC-GCT--AGCT--GAAACGCTGACGG---AG--CCT-CACGAA-CT--------CGGTC----A-----CGCCTTGGG------GG--AAGGGTCGCCCGTCGAGCG-----GT---TCGTCCGCCTTGGCGGGAA--GGCCCTGCTGTTGG----G---TGC--GCCGCTAAACTC---CGTTACCG-------CATTGC----ACT-A-CG-C-CG----AGG-C-GGTTGCG-----GAT----ATCC--CCA-AC--AAACG-ATGG-GTG-ACGTATG-AG-------ATGC---CG-A-----TG---CT--TG-----------GA-----AG-AAA-CGGTG---------AA--GTCGC---------CTGGAA-----------AACGGC---ATCAG--AA-----T-A-CGA-----T--TCA--A-----------ACGG-CATTCT--CGAT------------------------------TGCTT--------------------TGCT-ATCGAA--------GGAA-AGCC-GG---A-----TGCG-----GTC-------------------------GA-AA-CT--A--------TA---GCA----AAT-GCTTA-CG----T-GA-AGCTCGGTC-----------GC-------CAT--CG----AGA--AGG---------TGT-----------CGT-----------GGGC------------T--------------------TTGCT-CA--GT-----------GCT--A--CCTG------TT-------CGACG---CGCAGGACATCGTGA-CGTTCGGC---G-TC------AC-CT-ATC--T--TG-AGAAGC--A---CT--TCGG-AGCCACT--CC---GA-T--CGTGC----CA--GCAC----ACGA---AGC--C-GCCCAGCG----C--TC-TTGCGA----GCC----------TTCCG-GT--T--AG\\n  Score=630\\n'"
      ]
     },
     "execution_count": 51,
     "metadata": {},
     "output_type": "execute_result"
    }
   ],
   "source": [
    "best_alignment = max(alignments, key=lambda x: x.score)\n",
    "format_alignment(*best_alignment)"
   ]
  }
 ],
 "metadata": {
  "kernelspec": {
   "display_name": "bohunice2",
   "language": "python",
   "name": "python3"
  },
  "language_info": {
   "codemirror_mode": {
    "name": "ipython",
    "version": 3
   },
   "file_extension": ".py",
   "mimetype": "text/x-python",
   "name": "python",
   "nbconvert_exporter": "python",
   "pygments_lexer": "ipython3",
   "version": "3.12.7"
  }
 },
 "nbformat": 4,
 "nbformat_minor": 2
}
