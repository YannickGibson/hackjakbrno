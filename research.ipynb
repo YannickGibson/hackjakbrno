{
 "cells": [
  {
   "cell_type": "code",
   "execution_count": 2,
   "metadata": {},
   "outputs": [],
   "source": [
    "GENES = []\n",
    "\n",
    "# load gene paths in GENE_FOLDER directory and load using SeqIO\n",
    "import os\n",
    "from Bio import SeqIO\n",
    "\n",
    "GENE_FOLDER = r'data/resistance_genes_sequence/'\n",
    "# load all files in the GENE_FOLDER\n",
    "for file in os.listdir(GENE_FOLDER):\n",
    "    with open(GENE_FOLDER + file, 'r') as gene_file:\n",
    "        GENES.append([])\n",
    "        for record in SeqIO.parse(gene_file, 'fasta'):\n",
    "            GENES[-1].append(record)"
   ]
  },
  {
   "cell_type": "code",
   "execution_count": 3,
   "metadata": {},
   "outputs": [
    {
     "data": {
      "text/plain": [
       "3"
      ]
     },
     "execution_count": 3,
     "metadata": {},
     "output_type": "execute_result"
    }
   ],
   "source": [
    "# import library to calculate edit distance between two strings\n",
    "from Levenshtein import distance\n",
    "\n",
    "distance('hello', 'werld')"
   ]
  },
  {
   "cell_type": "code",
   "execution_count": 5,
   "metadata": {},
   "outputs": [
    {
     "name": "stdout",
     "output_type": "stream",
     "text": [
      "4000\n"
     ]
    },
    {
     "name": "stderr",
     "output_type": "stream",
     "text": [
      "closest match: 0.52:  20%|█▉        | 793/4000 [20:11<1:21:39,  1.53s/it]\n"
     ]
    },
    {
     "ename": "KeyboardInterrupt",
     "evalue": "",
     "output_type": "error",
     "traceback": [
      "\u001b[1;31m---------------------------------------------------------------------------\u001b[0m",
      "\u001b[1;31mKeyboardInterrupt\u001b[0m                         Traceback (most recent call last)",
      "Cell \u001b[1;32mIn[5], line 21\u001b[0m\n\u001b[0;32m     19\u001b[0m \u001b[38;5;66;03m# print seq attributes\u001b[39;00m\n\u001b[0;32m     20\u001b[0m \u001b[38;5;28;01mfor\u001b[39;00m i \u001b[38;5;129;01min\u001b[39;00m \u001b[38;5;28mrange\u001b[39m(\u001b[38;5;241m0\u001b[39m, \u001b[38;5;28mlen\u001b[39m(\u001b[38;5;28mstr\u001b[39m(seq))):\n\u001b[1;32m---> 21\u001b[0m     dist \u001b[38;5;241m=\u001b[39m \u001b[43mdistance\u001b[49m\u001b[43m(\u001b[49m\u001b[38;5;28;43mstr\u001b[39;49m\u001b[43m(\u001b[49m\u001b[43mseq\u001b[49m\u001b[43m[\u001b[49m\u001b[43mi\u001b[49m\u001b[43m:\u001b[49m\u001b[43mi\u001b[49m\u001b[38;5;241;43m+\u001b[39;49m\u001b[38;5;28;43mlen\u001b[39;49m\u001b[43m(\u001b[49m\u001b[43mgene\u001b[49m\u001b[43m)\u001b[49m\u001b[43m]\u001b[49m\u001b[43m)\u001b[49m\u001b[43m,\u001b[49m\u001b[43m \u001b[49m\u001b[43mgene\u001b[49m\u001b[43m)\u001b[49m\n\u001b[0;32m     22\u001b[0m     score \u001b[38;5;241m=\u001b[39m \u001b[38;5;241m1\u001b[39m \u001b[38;5;241m-\u001b[39m dist \u001b[38;5;241m/\u001b[39m \u001b[38;5;28mlen\u001b[39m(gene)\n\u001b[0;32m     23\u001b[0m     \u001b[38;5;28;01mif\u001b[39;00m closest_match_dist \u001b[38;5;241m>\u001b[39m dist:\n",
      "File \u001b[1;32mc:\\Users\\yannick.gibson\\AppData\\Local\\anaconda3\\envs\\bohunice2\\Lib\\site-packages\\Levenshtein\\__init__.py:123\u001b[0m, in \u001b[0;36mdistance\u001b[1;34m(s1, s2, weights, processor, score_cutoff, score_hint)\u001b[0m\n\u001b[0;32m     65\u001b[0m \u001b[38;5;28;01mdef\u001b[39;00m \u001b[38;5;21mdistance\u001b[39m(s1, s2, \u001b[38;5;241m*\u001b[39m, weights\u001b[38;5;241m=\u001b[39m(\u001b[38;5;241m1\u001b[39m, \u001b[38;5;241m1\u001b[39m, \u001b[38;5;241m1\u001b[39m), processor\u001b[38;5;241m=\u001b[39m\u001b[38;5;28;01mNone\u001b[39;00m, score_cutoff\u001b[38;5;241m=\u001b[39m\u001b[38;5;28;01mNone\u001b[39;00m, score_hint\u001b[38;5;241m=\u001b[39m\u001b[38;5;28;01mNone\u001b[39;00m):\n\u001b[0;32m     66\u001b[0m \u001b[38;5;250m    \u001b[39m\u001b[38;5;124;03m\"\"\"\u001b[39;00m\n\u001b[0;32m     67\u001b[0m \u001b[38;5;124;03m    Calculates the minimum number of insertions, deletions, and substitutions\u001b[39;00m\n\u001b[0;32m     68\u001b[0m \u001b[38;5;124;03m    required to change one sequence into the other according to Levenshtein with custom\u001b[39;00m\n\u001b[1;32m   (...)\u001b[0m\n\u001b[0;32m    121\u001b[0m \u001b[38;5;124;03m    3\u001b[39;00m\n\u001b[0;32m    122\u001b[0m \u001b[38;5;124;03m    \"\"\"\u001b[39;00m\n\u001b[1;32m--> 123\u001b[0m     \u001b[38;5;28;01mreturn\u001b[39;00m \u001b[43m_Levenshtein\u001b[49m\u001b[38;5;241;43m.\u001b[39;49m\u001b[43mdistance\u001b[49m\u001b[43m(\u001b[49m\n\u001b[0;32m    124\u001b[0m \u001b[43m        \u001b[49m\u001b[43ms1\u001b[49m\u001b[43m,\u001b[49m\n\u001b[0;32m    125\u001b[0m \u001b[43m        \u001b[49m\u001b[43ms2\u001b[49m\u001b[43m,\u001b[49m\n\u001b[0;32m    126\u001b[0m \u001b[43m        \u001b[49m\u001b[43mweights\u001b[49m\u001b[38;5;241;43m=\u001b[39;49m\u001b[43mweights\u001b[49m\u001b[43m,\u001b[49m\n\u001b[0;32m    127\u001b[0m \u001b[43m        \u001b[49m\u001b[43mprocessor\u001b[49m\u001b[38;5;241;43m=\u001b[39;49m\u001b[43mprocessor\u001b[49m\u001b[43m,\u001b[49m\n\u001b[0;32m    128\u001b[0m \u001b[43m        \u001b[49m\u001b[43mscore_cutoff\u001b[49m\u001b[38;5;241;43m=\u001b[39;49m\u001b[43mscore_cutoff\u001b[49m\u001b[43m,\u001b[49m\n\u001b[0;32m    129\u001b[0m \u001b[43m        \u001b[49m\u001b[43mscore_hint\u001b[49m\u001b[38;5;241;43m=\u001b[39;49m\u001b[43mscore_hint\u001b[49m\u001b[43m,\u001b[49m\n\u001b[0;32m    130\u001b[0m \u001b[43m    \u001b[49m\u001b[43m)\u001b[49m\n",
      "File \u001b[1;32msrc/rapidfuzz/distance/metrics_cpp.pyx:245\u001b[0m, in \u001b[0;36mrapidfuzz.distance.metrics_cpp_avx2.levenshtein_distance\u001b[1;34m()\u001b[0m\n",
      "File \u001b[1;32m./src/rapidfuzz/cpp_common.pxd:422\u001b[0m, in \u001b[0;36mcpp_common.preprocess_strings\u001b[1;34m()\u001b[0m\n",
      "File \u001b[1;32m./src/rapidfuzz/cpp_common.pxd:363\u001b[0m, in \u001b[0;36mcpp_common.conv_sequence\u001b[1;34m()\u001b[0m\n",
      "File \u001b[1;32m./src/rapidfuzz/cpp_common.pxd:315\u001b[0m, in \u001b[0;36mcpp_common.hash_sequence\u001b[1;34m()\u001b[0m\n",
      "File \u001b[1;32mc:\\Users\\yannick.gibson\\AppData\\Local\\anaconda3\\envs\\bohunice2\\Lib\\site-packages\\Bio\\SeqRecord.py:499\u001b[0m, in \u001b[0;36mSeqRecord.__getitem__\u001b[1;34m(self, index)\u001b[0m\n\u001b[0;32m    390\u001b[0m \u001b[38;5;28;01mdef\u001b[39;00m \u001b[38;5;21m__getitem__\u001b[39m(\u001b[38;5;28mself\u001b[39m, index):\n\u001b[0;32m    391\u001b[0m \u001b[38;5;250m    \u001b[39m\u001b[38;5;124;03m\"\"\"Return a sub-sequence or an individual letter.\u001b[39;00m\n\u001b[0;32m    392\u001b[0m \n\u001b[0;32m    393\u001b[0m \u001b[38;5;124;03m    Slicing, e.g. my_record[5:10], returns a new SeqRecord for\u001b[39;00m\n\u001b[1;32m   (...)\u001b[0m\n\u001b[0;32m    497\u001b[0m \u001b[38;5;124;03m    'K'\u001b[39;00m\n\u001b[0;32m    498\u001b[0m \u001b[38;5;124;03m    \"\"\"\u001b[39;00m\n\u001b[1;32m--> 499\u001b[0m     \u001b[38;5;28;01mif\u001b[39;00m \u001b[38;5;28;43misinstance\u001b[39;49m\u001b[43m(\u001b[49m\u001b[43mindex\u001b[49m\u001b[43m,\u001b[49m\u001b[43m \u001b[49m\u001b[43mnumbers\u001b[49m\u001b[38;5;241;43m.\u001b[39;49m\u001b[43mIntegral\u001b[49m\u001b[43m)\u001b[49m:\n\u001b[0;32m    500\u001b[0m         \u001b[38;5;66;03m# NOTE - The sequence level annotation like the id, name, etc\u001b[39;00m\n\u001b[0;32m    501\u001b[0m         \u001b[38;5;66;03m# do not really apply to a single character.  However, should\u001b[39;00m\n\u001b[0;32m    502\u001b[0m         \u001b[38;5;66;03m# we try and expose any per-letter-annotation here?  If so how?\u001b[39;00m\n\u001b[0;32m    503\u001b[0m         \u001b[38;5;28;01mreturn\u001b[39;00m \u001b[38;5;28mself\u001b[39m\u001b[38;5;241m.\u001b[39mseq[index]\n\u001b[0;32m    504\u001b[0m     \u001b[38;5;28;01melif\u001b[39;00m \u001b[38;5;28misinstance\u001b[39m(index, \u001b[38;5;28mslice\u001b[39m):\n",
      "File \u001b[1;32m<frozen abc>:117\u001b[0m, in \u001b[0;36m__instancecheck__\u001b[1;34m(cls, instance)\u001b[0m\n",
      "\u001b[1;31mKeyboardInterrupt\u001b[0m: "
     ]
    }
   ],
   "source": [
    "from Bio import SeqIO\n",
    "from tqdm import tqdm\n",
    "\n",
    "\n",
    "for _gene in GENES:\n",
    "    closest_match = None\n",
    "    closest_match\n",
    "    closest_match_dist = 9999999\n",
    "    closest_match_score = 0\n",
    "    gene, rcomplement = _gene\n",
    "    with open(r'C:\\Users\\yannick.gibson\\projects\\others\\_challenges\\nemocnice_bohunice\\8\\data\\sequencing_data\\barcode20\\PAQ63858_pass_barcode20_33cbe55b_d2f2cde4_0.fastq', 'r') as file:\n",
    "        record_len = sum(1 for record in SeqIO.parse(file, 'fastq'))\n",
    "        print(record_len)\n",
    "    with open(r'C:\\Users\\yannick.gibson\\projects\\others\\_challenges\\nemocnice_bohunice\\8\\data\\sequencing_data\\barcode20\\PAQ63858_pass_barcode20_33cbe55b_d2f2cde4_0.fastq', 'r') as file:\n",
    "        pbar = tqdm(enumerate(SeqIO.parse(file, 'fastq')), total=record_len)\n",
    "        for ri, record in pbar:\n",
    "            seq = record.seq\n",
    "            # print seq attributes\n",
    "            \n",
    "            for i in range(0, len(str(seq))):\n",
    "                dist = distance(str(seq[i:i+len(gene)]), gene)\n",
    "                score = 1 - dist / len(gene)\n",
    "                if closest_match_dist > dist:\n",
    "                    closest_match = (gene, str(seq[i:i+len(gene)]))\n",
    "                    closest_match_dist = dist\n",
    "                    closest_match_score = score\n",
    "                if i + len(gene) >= len(seq):\n",
    "                    break\n",
    "            pbar.set_description(f'closest match: {closest_match_score:.2f}')\n",
    "    print(closest_match_score)\n",
    "    print(closest_match_dist, len(gene))\n",
    "    print(closest_match)\n",
    "    break\n"
   ]
  },
  {
   "cell_type": "code",
   "execution_count": null,
   "metadata": {},
   "outputs": [],
   "source": [
    "# check that rcomplement is identical to the non-complement gene\n",
    "complement = {'A': 'T', 'C': 'G', 'G': 'C', 'T': 'A'}\n",
    "assert str(GENES[0][0].seq) == \"\".join(reversed(list(map(lambda x: complement[x], str(GENES[0][1].seq)))))\n"
   ]
  }
 ],
 "metadata": {
  "kernelspec": {
   "display_name": "bohunice2",
   "language": "python",
   "name": "python3"
  },
  "language_info": {
   "codemirror_mode": {
    "name": "ipython",
    "version": 3
   },
   "file_extension": ".py",
   "mimetype": "text/x-python",
   "name": "python",
   "nbconvert_exporter": "python",
   "pygments_lexer": "ipython3",
   "version": "3.12.7"
  }
 },
 "nbformat": 4,
 "nbformat_minor": 2
}
