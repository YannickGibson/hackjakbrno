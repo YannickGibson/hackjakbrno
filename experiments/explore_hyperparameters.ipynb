{
 "cells": [
  {
   "cell_type": "markdown",
   "metadata": {},
   "source": [
    "# Choose best hyperparameters for solver.py"
   ]
  },
  {
   "cell_type": "markdown",
   "metadata": {},
   "source": [
    "### Load labels to df"
   ]
  },
  {
   "cell_type": "code",
   "execution_count": 17,
   "metadata": {},
   "outputs": [
    {
     "data": {
      "text/html": [
       "<div>\n",
       "<style scoped>\n",
       "    .dataframe tbody tr th:only-of-type {\n",
       "        vertical-align: middle;\n",
       "    }\n",
       "\n",
       "    .dataframe tbody tr th {\n",
       "        vertical-align: top;\n",
       "    }\n",
       "\n",
       "    .dataframe thead th {\n",
       "        text-align: right;\n",
       "    }\n",
       "</style>\n",
       "<table border=\"1\" class=\"dataframe\">\n",
       "  <thead>\n",
       "    <tr style=\"text-align: right;\">\n",
       "      <th></th>\n",
       "      <th>barcode</th>\n",
       "      <th>vzorek</th>\n",
       "      <th>počet čtení</th>\n",
       "      <th>aph(6)-Id</th>\n",
       "      <th>aph(3'')-Ib</th>\n",
       "      <th>rezistence</th>\n",
       "      <th>aac(3)-IIa</th>\n",
       "      <th>aac(3)-IId</th>\n",
       "      <th>rezistence.1</th>\n",
       "      <th>tet(A)</th>\n",
       "      <th>tet(D)</th>\n",
       "      <th>rezistence.2</th>\n",
       "    </tr>\n",
       "  </thead>\n",
       "  <tbody>\n",
       "    <tr>\n",
       "      <th>0</th>\n",
       "      <td>barcode20</td>\n",
       "      <td>KP1622</td>\n",
       "      <td>126101</td>\n",
       "      <td>1</td>\n",
       "      <td>1</td>\n",
       "      <td>ANO</td>\n",
       "      <td>1</td>\n",
       "      <td>0</td>\n",
       "      <td>ANO</td>\n",
       "      <td>1</td>\n",
       "      <td>0</td>\n",
       "      <td>ANO</td>\n",
       "    </tr>\n",
       "    <tr>\n",
       "      <th>1</th>\n",
       "      <td>barcode21</td>\n",
       "      <td>KP1645</td>\n",
       "      <td>99659</td>\n",
       "      <td>1</td>\n",
       "      <td>1</td>\n",
       "      <td>ANO</td>\n",
       "      <td>1</td>\n",
       "      <td>0</td>\n",
       "      <td>ANO</td>\n",
       "      <td>0</td>\n",
       "      <td>0</td>\n",
       "      <td>NE</td>\n",
       "    </tr>\n",
       "    <tr>\n",
       "      <th>2</th>\n",
       "      <td>barcode22</td>\n",
       "      <td>KP1651</td>\n",
       "      <td>92647</td>\n",
       "      <td>1</td>\n",
       "      <td>1</td>\n",
       "      <td>ANO</td>\n",
       "      <td>0</td>\n",
       "      <td>0</td>\n",
       "      <td>NE</td>\n",
       "      <td>1</td>\n",
       "      <td>0</td>\n",
       "      <td>ANO</td>\n",
       "    </tr>\n",
       "    <tr>\n",
       "      <th>3</th>\n",
       "      <td>barcode23</td>\n",
       "      <td>KP1658</td>\n",
       "      <td>135794</td>\n",
       "      <td>1</td>\n",
       "      <td>1</td>\n",
       "      <td>ANO</td>\n",
       "      <td>0</td>\n",
       "      <td>0</td>\n",
       "      <td>NE</td>\n",
       "      <td>1</td>\n",
       "      <td>0</td>\n",
       "      <td>ANO</td>\n",
       "    </tr>\n",
       "    <tr>\n",
       "      <th>4</th>\n",
       "      <td>barcode24</td>\n",
       "      <td>KP1880</td>\n",
       "      <td>153100</td>\n",
       "      <td>0</td>\n",
       "      <td>0</td>\n",
       "      <td>NE</td>\n",
       "      <td>0</td>\n",
       "      <td>0</td>\n",
       "      <td>NE</td>\n",
       "      <td>0</td>\n",
       "      <td>0</td>\n",
       "      <td>NE</td>\n",
       "    </tr>\n",
       "  </tbody>\n",
       "</table>\n",
       "</div>"
      ],
      "text/plain": [
       "     barcode  vzorek  počet čtení  aph(6)-Id  aph(3'')-Ib rezistence  \\\n",
       "0  barcode20  KP1622       126101          1            1        ANO   \n",
       "1  barcode21  KP1645        99659          1            1        ANO   \n",
       "2  barcode22  KP1651        92647          1            1        ANO   \n",
       "3  barcode23  KP1658       135794          1            1        ANO   \n",
       "4  barcode24  KP1880       153100          0            0         NE   \n",
       "\n",
       "   aac(3)-IIa  aac(3)-IId rezistence.1  tet(A)  tet(D) rezistence.2  \n",
       "0           1           0          ANO       1       0          ANO  \n",
       "1           1           0          ANO       0       0           NE  \n",
       "2           0           0           NE       1       0          ANO  \n",
       "3           0           0           NE       1       0          ANO  \n",
       "4           0           0           NE       0       0           NE  "
      ]
     },
     "execution_count": 17,
     "metadata": {},
     "output_type": "execute_result"
    }
   ],
   "source": [
    "import pandas as pd\n",
    "\n",
    "LABELS_PATH = '../data/KP_samples_with_resistance_tab.xlsx'\n",
    "\n",
    "# convert excel to pandas dataframe\n",
    "df = pd.read_excel(LABELS_PATH, header=1)\n",
    "\n",
    "df.head()"
   ]
  },
  {
   "cell_type": "markdown",
   "metadata": {},
   "source": [
    "### Run solver for each configuration"
   ]
  },
  {
   "cell_type": "code",
   "execution_count": 35,
   "metadata": {},
   "outputs": [
    {
     "name": "stdout",
     "output_type": "stream",
     "text": [
      "Average accuracies: [0.0, 0.3333333333333333, 0.5, 0.6666666666666666, 1.0]\n"
     ]
    }
   ],
   "source": [
    "# descend to parent dir\n",
    "import sys\n",
    "import os\n",
    "sys.path.insert(1, os.path.abspath( os.path.dirname(__file__)) )\n",
    "\n",
    "import pandas as pd\n",
    "from solver import solve, mock_solve\n",
    "\n",
    "# Choose mock method (optional)\n",
    "solve = mock_solve\n",
    "\n",
    "n_similar_vectors = [1, 5, 10, 50, 100]\n",
    "avg_accuracies = []  # avg per every barcode for each hyper parameter\n",
    "\n",
    "def get_accuracy(result: dict[dict[str: bool]], df: pd.DataFrame) -> float:\n",
    "    accuracies = []\n",
    "    for barcode_name, bacterias in result.items():\n",
    "        correct_fields = []\n",
    "        for bacteria_name, detected in bacterias.items():\n",
    "            label = df[df['barcode'] == barcode_name][bacteria_name].values[0]\n",
    "            is_correct = label == detected\n",
    "            correct_fields.append(is_correct)\n",
    "        accuracies.append(sum(correct_fields) / len(correct_fields))\n",
    "    return accuracies\n",
    "\n",
    "def get_avg_accuracy(result: dict[dict[str: bool]], df: pd.DataFrame) -> float:\n",
    "    accuracies = get_accuracy(result, df)\n",
    "    return sum(accuracies) / len(accuracies)\n",
    "\n",
    "for n in n_similar_vectors:\n",
    "    # Solve\n",
    "    result = solve(n)\n",
    "    # Calculate avg accuracy for each barcode\n",
    "    avg_accuracy = get_avg_accuracy(result, df)\n",
    "    avg_accuracies.append(avg_accuracy)\n",
    "\n",
    "print(f\"Average accuracies: {avg_accuracies}\")"
   ]
  },
  {
   "cell_type": "markdown",
   "metadata": {},
   "source": [
    "### Plot the results"
   ]
  },
  {
   "cell_type": "code",
   "execution_count": 36,
   "metadata": {},
   "outputs": [
    {
     "data": {
      "text/plain": [
       "Text(0, 0.5, 'Mean Accuracy')"
      ]
     },
     "execution_count": 36,
     "metadata": {},
     "output_type": "execute_result"
    },
    {
     "data": {
      "image/png": "[encoded data removed]",
      "text/plain": [
       "<Figure size 640x480 with 1 Axes>"
      ]
     },
     "metadata": {},
     "output_type": "display_data"
    }
   ],
   "source": [
    "import matplotlib.pyplot as plt\n",
    "\n",
    "# plot line graph\n",
    "plt.plot(n_similar_vectors, avg_accuracies, marker='x')\n",
    "\n",
    "# set labels\n",
    "plt.xlabel('Number of best similaries')\n",
    "plt.ylabel('Mean Accuracy')"
   ]
  }
 ],
 "metadata": {
  "kernelspec": {
   "display_name": "bohunice2",
   "language": "python",
   "name": "python3"
  },
  "language_info": {
   "codemirror_mode": {
    "name": "ipython",
    "version": 3
   },
   "file_extension": ".py",
   "mimetype": "text/x-python",
   "name": "python",
   "nbconvert_exporter": "python",
   "pygments_lexer": "ipython3",
   "version": "3.12.7"
  }
 },
 "nbformat": 4,
 "nbformat_minor": 2
}
