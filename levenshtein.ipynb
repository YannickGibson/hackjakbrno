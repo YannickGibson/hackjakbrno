{
 "cells": [
  {
   "cell_type": "code",
   "execution_count": 2,
   "metadata": {},
   "outputs": [],
   "source": [
    "GENES = []\n",
    "\n",
    "# load gene paths in GENE_FOLDER directory and load using SeqIO\n",
    "import os\n",
    "from Bio import SeqIO\n",
    "\n",
    "GENE_FOLDER = r'data/resistance_genes_sequence/'\n",
    "# load all files in the GENE_FOLDER\n",
    "for file in os.listdir(GENE_FOLDER):\n",
    "    with open(GENE_FOLDER + file, 'r') as gene_file:\n",
    "        GENES.append([])\n",
    "        for record in SeqIO.parse(gene_file, 'fasta'):\n",
    "            GENES[-1].append(record)"
   ]
  },
  {
   "cell_type": "code",
   "execution_count": 3,
   "metadata": {},
   "outputs": [
    {
     "data": {
      "text/plain": [
       "3"
      ]
     },
     "execution_count": 3,
     "metadata": {},
     "output_type": "execute_result"
    }
   ],
   "source": [
    "# import library to calculate edit distance between two strings\n",
    "from Levenshtein import distance\n",
    "\n",
    "distance('hello', 'werld')"
   ]
  },
  {
   "cell_type": "code",
   "execution_count": 4,
   "metadata": {},
   "outputs": [
    {
     "name": "stdout",
     "output_type": "stream",
     "text": [
      "4000\n"
     ]
    },
    {
     "name": "stderr",
     "output_type": "stream",
     "text": [
      "closest match: 1.00: 100%|██████████| 4000/4000 [02:33<00:00, 26.12it/s]"
     ]
    },
    {
     "name": "stdout",
     "output_type": "stream",
     "text": [
      "1.0\n",
      "0 861\n",
      "(SeqRecord(seq=Seq('ATGCATACGCGGAAGGCAATAACGGAGGCAATTCGAAAATTAGGAGTCCAAACC...TAG'), id='aac(3)-IIa', name='aac(3)-IIa', description='aac(3)-IIa', dbxrefs=[]), 'ATGCATACGC')\n"
     ]
    },
    {
     "name": "stderr",
     "output_type": "stream",
     "text": [
      "\n"
     ]
    }
   ],
   "source": [
    "from Bio import SeqIO\n",
    "from tqdm import tqdm\n",
    "\n",
    "\n",
    "for _gene in GENES:\n",
    "    closest_match = None\n",
    "    closest_match\n",
    "    closest_match_dist = 9999999\n",
    "    closest_match_score = 0\n",
    "    gene, rcomplement = _gene\n",
    "    with open(r'C:\\Users\\yannick.gibson\\projects\\others\\_challenges\\nemocnice_bohunice\\8\\data\\sequencing_data\\barcode20\\PAQ63858_pass_barcode20_33cbe55b_d2f2cde4_0.fastq', 'r') as file:\n",
    "        record_len = sum(1 for record in SeqIO.parse(file, 'fastq'))\n",
    "        print(record_len)\n",
    "    with open(r'C:\\Users\\yannick.gibson\\projects\\others\\_challenges\\nemocnice_bohunice\\8\\data\\sequencing_data\\barcode20\\PAQ63858_pass_barcode20_33cbe55b_d2f2cde4_0.fastq', 'r') as file:\n",
    "        pbar = tqdm(enumerate(SeqIO.parse(file, 'fastq')), total=record_len)\n",
    "        for ri, record in pbar:\n",
    "            seq = record.seq\n",
    "            # print seq attributes\n",
    "            gene_len = 10 # len(gene)\n",
    "            for i in range(0, len(str(seq))):\n",
    "                dist = distance(str(seq[i:i+gene_len]), gene[:gene_len])\n",
    "                score = 1 - dist / gene_len\n",
    "                if closest_match_dist > dist:\n",
    "                    closest_match = (gene, str(seq[i:i+gene_len]))\n",
    "                    closest_match_dist = dist\n",
    "                    closest_match_score = score\n",
    "                if i + gene_len >= len(seq):\n",
    "                    break\n",
    "            pbar.set_description(f'closest match: {closest_match_score:.2f}')\n",
    "    print(closest_match_score)\n",
    "    print(closest_match_dist, len(gene))\n",
    "    print(closest_match)\n",
    "    break\n"
   ]
  },
  {
   "cell_type": "code",
   "execution_count": null,
   "metadata": {},
   "outputs": [],
   "source": [
    "# check that rcomplement is identical to the non-complement gene\n",
    "complement = {'A': 'T', 'C': 'G', 'G': 'C', 'T': 'A'}\n",
    "assert str(GENES[0][0].seq) == \"\".join(reversed(list(map(lambda x: complement[x], str(GENES[0][1].seq)))))\n"
   ]
  }
 ],
 "metadata": {
  "kernelspec": {
   "display_name": "bohunice2",
   "language": "python",
   "name": "python3"
  },
  "language_info": {
   "codemirror_mode": {
    "name": "ipython",
    "version": 3
   },
   "file_extension": ".py",
   "mimetype": "text/x-python",
   "name": "python",
   "nbconvert_exporter": "python",
   "pygments_lexer": "ipython3",
   "version": "3.12.7"
  }
 },
 "nbformat": 4,
 "nbformat_minor": 2
}
