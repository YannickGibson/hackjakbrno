{
 "cells": [
  {
   "cell_type": "code",
   "execution_count": 1,
   "metadata": {
    "colab": {
     "base_uri": "https://localhost:8080/"
    },
    "executionInfo": {
     "elapsed": 2001,
     "status": "ok",
     "timestamp": 1730572771202,
     "user": {
      "displayName": "Martin Benedikt",
      "userId": "14403674078649230072"
     },
     "user_tz": -60
    },
    "id": "qr4N1lbcnYSH",
    "outputId": "a8d37ace-eb28-4241-df5f-372c2d7f637e"
   },
   "outputs": [
    {
     "name": "stdout",
     "output_type": "stream",
     "text": [
      "Drive already mounted at /content/drive; to attempt to forcibly remount, call drive.mount(\"/content/drive\", force_remount=True).\n"
     ]
    }
   ],
   "source": [
    "from google.colab import drive\n",
    "drive.mount('/content/drive')"
   ]
  },
  {
   "cell_type": "code",
   "execution_count": 2,
   "metadata": {
    "executionInfo": {
     "elapsed": 6,
     "status": "ok",
     "timestamp": 1730572771203,
     "user": {
      "displayName": "Martin Benedikt",
      "userId": "14403674078649230072"
     },
     "user_tz": -60
    },
    "id": "aSwcsLHEnlHq"
   },
   "outputs": [],
   "source": [
    "import os\n",
    "project_folder = '/content/drive/MyDrive/dna2vec-7E4E'\n",
    "os.chdir(project_folder)"
   ]
  },
  {
   "cell_type": "code",
   "execution_count": 3,
   "metadata": {
    "colab": {
     "base_uri": "https://localhost:8080/"
    },
    "executionInfo": {
     "elapsed": 5,
     "status": "ok",
     "timestamp": 1730572771203,
     "user": {
      "displayName": "Martin Benedikt",
      "userId": "14403674078649230072"
     },
     "user_tz": -60
    },
    "id": "NiloUvg-oC9r",
    "outputId": "b7bb8e25-b6df-4553-f327-797f15e60ced"
   },
   "outputs": [
    {
     "data": {
      "text/plain": [
       "['.gitattributes',\n",
       " 'Read simulation Using ART.pdf',\n",
       " '.gitignore',\n",
       " 'readme.md',\n",
       " 'pyproject.toml',\n",
       " 'src',\n",
       " 'docs',\n",
       " 'configs',\n",
       " 'tests',\n",
       " 'evaluate',\n",
       " 'ncbi_dataset',\n",
       " 'wandb',\n",
       " 'models',\n",
       " 'train.py',\n",
       " 'Untitled0.ipynb']"
      ]
     },
     "execution_count": 3,
     "metadata": {},
     "output_type": "execute_result"
    }
   ],
   "source": [
    "os.listdir(project_folder)"
   ]
  },
  {
   "cell_type": "code",
   "execution_count": 4,
   "metadata": {
    "colab": {
     "base_uri": "https://localhost:8080/"
    },
    "executionInfo": {
     "elapsed": 21665,
     "status": "ok",
     "timestamp": 1730569007876,
     "user": {
      "displayName": "Martin Benedikt",
      "userId": "14403674078649230072"
     },
     "user_tz": -60
    },
    "id": "1DJDWVgwoE71",
    "outputId": "07e91a9e-9f7d-435b-f707-abc6d7b1ceed"
   },
   "outputs": [
    {
     "name": "stdout",
     "output_type": "stream",
     "text": [
      "Obtaining file:///content/drive/MyDrive/dna2vec-7E4E\n",
      "  Installing build dependencies ... \u001b[?25l\u001b[?25hdone\n",
      "  Checking if build backend supports build_editable ... \u001b[?25l\u001b[?25hdone\n",
      "  Getting requirements to build editable ... \u001b[?25l\u001b[?25hdone\n",
      "  Preparing editable metadata (pyproject.toml) ... \u001b[?25l\u001b[?25hdone\n",
      "Requirement already satisfied: torch>=2.0.0 in /usr/local/lib/python3.10/dist-packages (from dna2vec==0.0.4) (2.5.0+cu121)\n",
      "Requirement already satisfied: sentence-transformers>=2.2.0 in /usr/local/lib/python3.10/dist-packages (from dna2vec==0.0.4) (3.2.1)\n",
      "Collecting umap-learn>=0.1.1 (from dna2vec==0.0.4)\n",
      "  Downloading umap_learn-0.5.7-py3-none-any.whl.metadata (21 kB)\n",
      "Requirement already satisfied: tqdm>=4.62.0 in /usr/local/lib/python3.10/dist-packages (from dna2vec==0.0.4) (4.66.6)\n",
      "Collecting pinecone-client>2.2.0 (from pinecone-client[grpc]>2.2.0->dna2vec==0.0.4)\n",
      "  Downloading pinecone_client-5.0.1-py3-none-any.whl.metadata (19 kB)\n",
      "Collecting pydantic<2.0.0,>=1.8.2 (from dna2vec==0.0.4)\n",
      "  Downloading pydantic-1.10.18-cp310-cp310-manylinux_2_17_x86_64.manylinux2014_x86_64.whl.metadata (152 kB)\n",
      "\u001b[2K     \u001b[90m━━━━━━━━━━━━━━━━━━━━━━━━━━━━━━━━━━━━━━━━\u001b[0m \u001b[32m152.2/152.2 kB\u001b[0m \u001b[31m5.5 MB/s\u001b[0m eta \u001b[36m0:00:00\u001b[0m\n",
      "\u001b[?25hRequirement already satisfied: typer>=0.3.2 in /usr/local/lib/python3.10/dist-packages (from dna2vec==0.0.4) (0.12.5)\n",
      "Requirement already satisfied: tokenizers>=0.13.3 in /usr/local/lib/python3.10/dist-packages (from dna2vec==0.0.4) (0.19.1)\n",
      "Requirement already satisfied: wandb>=0.12.1 in /usr/local/lib/python3.10/dist-packages (from dna2vec==0.0.4) (0.18.5)\n",
      "Collecting biopython>=1.81 (from dna2vec==0.0.4)\n",
      "  Downloading biopython-1.84-cp310-cp310-manylinux_2_17_x86_64.manylinux2014_x86_64.whl.metadata (12 kB)\n",
      "Collecting pysam>=0.21.0 (from dna2vec==0.0.4)\n",
      "  Downloading pysam-0.22.1-cp310-cp310-manylinux_2_28_x86_64.whl.metadata (1.5 kB)\n",
      "Requirement already satisfied: numpy in /usr/local/lib/python3.10/dist-packages (from biopython>=1.81->dna2vec==0.0.4) (1.26.4)\n",
      "Requirement already satisfied: certifi>=2019.11.17 in /usr/local/lib/python3.10/dist-packages (from pinecone-client>2.2.0->pinecone-client[grpc]>2.2.0->dna2vec==0.0.4) (2024.8.30)\n",
      "Collecting pinecone-plugin-inference<2.0.0,>=1.0.3 (from pinecone-client>2.2.0->pinecone-client[grpc]>2.2.0->dna2vec==0.0.4)\n",
      "  Downloading pinecone_plugin_inference-1.1.0-py3-none-any.whl.metadata (2.2 kB)\n",
      "Collecting pinecone-plugin-interface<0.0.8,>=0.0.7 (from pinecone-client>2.2.0->pinecone-client[grpc]>2.2.0->dna2vec==0.0.4)\n",
      "  Downloading pinecone_plugin_interface-0.0.7-py3-none-any.whl.metadata (1.2 kB)\n",
      "Requirement already satisfied: typing-extensions>=3.7.4 in /usr/local/lib/python3.10/dist-packages (from pinecone-client>2.2.0->pinecone-client[grpc]>2.2.0->dna2vec==0.0.4) (4.12.2)\n",
      "Requirement already satisfied: urllib3>=1.26.0 in /usr/local/lib/python3.10/dist-packages (from pinecone-client>2.2.0->pinecone-client[grpc]>2.2.0->dna2vec==0.0.4) (2.2.3)\n",
      "Requirement already satisfied: googleapis-common-protos>=1.53.0 in /usr/local/lib/python3.10/dist-packages (from pinecone-client[grpc]>2.2.0->dna2vec==0.0.4) (1.65.0)\n",
      "Requirement already satisfied: grpcio>=1.44.0 in /usr/local/lib/python3.10/dist-packages (from pinecone-client[grpc]>2.2.0->dna2vec==0.0.4) (1.64.1)\n",
      "Collecting lz4>=3.1.3 (from pinecone-client[grpc]>2.2.0->dna2vec==0.0.4)\n",
      "  Downloading lz4-4.3.3-cp310-cp310-manylinux_2_17_x86_64.manylinux2014_x86_64.whl.metadata (3.7 kB)\n",
      "Collecting protobuf<5.0,>=4.25 (from pinecone-client[grpc]>2.2.0->dna2vec==0.0.4)\n",
      "  Downloading protobuf-4.25.5-cp37-abi3-manylinux2014_x86_64.whl.metadata (541 bytes)\n",
      "Collecting protoc-gen-openapiv2<0.0.2,>=0.0.1 (from pinecone-client[grpc]>2.2.0->dna2vec==0.0.4)\n",
      "  Downloading protoc_gen_openapiv2-0.0.1-py3-none-any.whl.metadata (1.5 kB)\n",
      "Requirement already satisfied: transformers<5.0.0,>=4.41.0 in /usr/local/lib/python3.10/dist-packages (from sentence-transformers>=2.2.0->dna2vec==0.0.4) (4.44.2)\n",
      "Requirement already satisfied: scikit-learn in /usr/local/lib/python3.10/dist-packages (from sentence-transformers>=2.2.0->dna2vec==0.0.4) (1.5.2)\n",
      "Requirement already satisfied: scipy in /usr/local/lib/python3.10/dist-packages (from sentence-transformers>=2.2.0->dna2vec==0.0.4) (1.13.1)\n",
      "Requirement already satisfied: huggingface-hub>=0.20.0 in /usr/local/lib/python3.10/dist-packages (from sentence-transformers>=2.2.0->dna2vec==0.0.4) (0.24.7)\n",
      "Requirement already satisfied: Pillow in /usr/local/lib/python3.10/dist-packages (from sentence-transformers>=2.2.0->dna2vec==0.0.4) (10.4.0)\n",
      "Requirement already satisfied: filelock in /usr/local/lib/python3.10/dist-packages (from torch>=2.0.0->dna2vec==0.0.4) (3.16.1)\n",
      "Requirement already satisfied: networkx in /usr/local/lib/python3.10/dist-packages (from torch>=2.0.0->dna2vec==0.0.4) (3.4.2)\n",
      "Requirement already satisfied: jinja2 in /usr/local/lib/python3.10/dist-packages (from torch>=2.0.0->dna2vec==0.0.4) (3.1.4)\n",
      "Requirement already satisfied: fsspec in /usr/local/lib/python3.10/dist-packages (from torch>=2.0.0->dna2vec==0.0.4) (2024.10.0)\n",
      "Requirement already satisfied: sympy==1.13.1 in /usr/local/lib/python3.10/dist-packages (from torch>=2.0.0->dna2vec==0.0.4) (1.13.1)\n",
      "Requirement already satisfied: mpmath<1.4,>=1.1.0 in /usr/local/lib/python3.10/dist-packages (from sympy==1.13.1->torch>=2.0.0->dna2vec==0.0.4) (1.3.0)\n",
      "Requirement already satisfied: click>=8.0.0 in /usr/local/lib/python3.10/dist-packages (from typer>=0.3.2->dna2vec==0.0.4) (8.1.7)\n",
      "Requirement already satisfied: shellingham>=1.3.0 in /usr/local/lib/python3.10/dist-packages (from typer>=0.3.2->dna2vec==0.0.4) (1.5.4)\n",
      "Requirement already satisfied: rich>=10.11.0 in /usr/local/lib/python3.10/dist-packages (from typer>=0.3.2->dna2vec==0.0.4) (13.9.3)\n",
      "Requirement already satisfied: numba>=0.51.2 in /usr/local/lib/python3.10/dist-packages (from umap-learn>=0.1.1->dna2vec==0.0.4) (0.60.0)\n",
      "Collecting pynndescent>=0.5 (from umap-learn>=0.1.1->dna2vec==0.0.4)\n",
      "  Downloading pynndescent-0.5.13-py3-none-any.whl.metadata (6.8 kB)\n",
      "Requirement already satisfied: docker-pycreds>=0.4.0 in /usr/local/lib/python3.10/dist-packages (from wandb>=0.12.1->dna2vec==0.0.4) (0.4.0)\n",
      "Requirement already satisfied: gitpython!=3.1.29,>=1.0.0 in /usr/local/lib/python3.10/dist-packages (from wandb>=0.12.1->dna2vec==0.0.4) (3.1.43)\n",
      "Requirement already satisfied: platformdirs in /usr/local/lib/python3.10/dist-packages (from wandb>=0.12.1->dna2vec==0.0.4) (4.3.6)\n",
      "Requirement already satisfied: psutil>=5.0.0 in /usr/local/lib/python3.10/dist-packages (from wandb>=0.12.1->dna2vec==0.0.4) (5.9.5)\n",
      "Requirement already satisfied: pyyaml in /usr/local/lib/python3.10/dist-packages (from wandb>=0.12.1->dna2vec==0.0.4) (6.0.2)\n",
      "Requirement already satisfied: requests<3,>=2.0.0 in /usr/local/lib/python3.10/dist-packages (from wandb>=0.12.1->dna2vec==0.0.4) (2.32.3)\n",
      "Requirement already satisfied: sentry-sdk>=2.0.0 in /usr/local/lib/python3.10/dist-packages (from wandb>=0.12.1->dna2vec==0.0.4) (2.17.0)\n",
      "Requirement already satisfied: setproctitle in /usr/local/lib/python3.10/dist-packages (from wandb>=0.12.1->dna2vec==0.0.4) (1.3.3)\n",
      "Requirement already satisfied: setuptools in /usr/local/lib/python3.10/dist-packages (from wandb>=0.12.1->dna2vec==0.0.4) (75.1.0)\n",
      "Requirement already satisfied: six>=1.4.0 in /usr/local/lib/python3.10/dist-packages (from docker-pycreds>=0.4.0->wandb>=0.12.1->dna2vec==0.0.4) (1.16.0)\n",
      "Requirement already satisfied: gitdb<5,>=4.0.1 in /usr/local/lib/python3.10/dist-packages (from gitpython!=3.1.29,>=1.0.0->wandb>=0.12.1->dna2vec==0.0.4) (4.0.11)\n",
      "Requirement already satisfied: packaging>=20.9 in /usr/local/lib/python3.10/dist-packages (from huggingface-hub>=0.20.0->sentence-transformers>=2.2.0->dna2vec==0.0.4) (24.1)\n",
      "Requirement already satisfied: llvmlite<0.44,>=0.43.0dev0 in /usr/local/lib/python3.10/dist-packages (from numba>=0.51.2->umap-learn>=0.1.1->dna2vec==0.0.4) (0.43.0)\n",
      "Requirement already satisfied: joblib>=0.11 in /usr/local/lib/python3.10/dist-packages (from pynndescent>=0.5->umap-learn>=0.1.1->dna2vec==0.0.4) (1.4.2)\n",
      "Requirement already satisfied: charset-normalizer<4,>=2 in /usr/local/lib/python3.10/dist-packages (from requests<3,>=2.0.0->wandb>=0.12.1->dna2vec==0.0.4) (3.4.0)\n",
      "Requirement already satisfied: idna<4,>=2.5 in /usr/local/lib/python3.10/dist-packages (from requests<3,>=2.0.0->wandb>=0.12.1->dna2vec==0.0.4) (3.10)\n",
      "Requirement already satisfied: markdown-it-py>=2.2.0 in /usr/local/lib/python3.10/dist-packages (from rich>=10.11.0->typer>=0.3.2->dna2vec==0.0.4) (3.0.0)\n",
      "Requirement already satisfied: pygments<3.0.0,>=2.13.0 in /usr/local/lib/python3.10/dist-packages (from rich>=10.11.0->typer>=0.3.2->dna2vec==0.0.4) (2.18.0)\n",
      "Requirement already satisfied: threadpoolctl>=3.1.0 in /usr/local/lib/python3.10/dist-packages (from scikit-learn->sentence-transformers>=2.2.0->dna2vec==0.0.4) (3.5.0)\n",
      "Requirement already satisfied: regex!=2019.12.17 in /usr/local/lib/python3.10/dist-packages (from transformers<5.0.0,>=4.41.0->sentence-transformers>=2.2.0->dna2vec==0.0.4) (2024.9.11)\n",
      "Requirement already satisfied: safetensors>=0.4.1 in /usr/local/lib/python3.10/dist-packages (from transformers<5.0.0,>=4.41.0->sentence-transformers>=2.2.0->dna2vec==0.0.4) (0.4.5)\n",
      "Requirement already satisfied: MarkupSafe>=2.0 in /usr/local/lib/python3.10/dist-packages (from jinja2->torch>=2.0.0->dna2vec==0.0.4) (3.0.2)\n",
      "Requirement already satisfied: smmap<6,>=3.0.1 in /usr/local/lib/python3.10/dist-packages (from gitdb<5,>=4.0.1->gitpython!=3.1.29,>=1.0.0->wandb>=0.12.1->dna2vec==0.0.4) (5.0.1)\n",
      "Requirement already satisfied: mdurl~=0.1 in /usr/local/lib/python3.10/dist-packages (from markdown-it-py>=2.2.0->rich>=10.11.0->typer>=0.3.2->dna2vec==0.0.4) (0.1.2)\n",
      "Downloading biopython-1.84-cp310-cp310-manylinux_2_17_x86_64.manylinux2014_x86_64.whl (3.2 MB)\n",
      "\u001b[2K   \u001b[90m━━━━━━━━━━━━━━━━━━━━━━━━━━━━━━━━━━━━━━━━\u001b[0m \u001b[32m3.2/3.2 MB\u001b[0m \u001b[31m54.9 MB/s\u001b[0m eta \u001b[36m0:00:00\u001b[0m\n",
      "\u001b[?25hDownloading pinecone_client-5.0.1-py3-none-any.whl (244 kB)\n",
      "\u001b[2K   \u001b[90m━━━━━━━━━━━━━━━━━━━━━━━━━━━━━━━━━━━━━━━━\u001b[0m \u001b[32m244.8/244.8 kB\u001b[0m \u001b[31m21.4 MB/s\u001b[0m eta \u001b[36m0:00:00\u001b[0m\n",
      "\u001b[?25hDownloading pydantic-1.10.18-cp310-cp310-manylinux_2_17_x86_64.manylinux2014_x86_64.whl (3.1 MB)\n",
      "\u001b[2K   \u001b[90m━━━━━━━━━━━━━━━━━━━━━━━━━━━━━━━━━━━━━━━━\u001b[0m \u001b[32m3.1/3.1 MB\u001b[0m \u001b[31m95.9 MB/s\u001b[0m eta \u001b[36m0:00:00\u001b[0m\n",
      "\u001b[?25hDownloading pysam-0.22.1-cp310-cp310-manylinux_2_28_x86_64.whl (22.0 MB)\n",
      "\u001b[2K   \u001b[90m━━━━━━━━━━━━━━━━━━━━━━━━━━━━━━━━━━━━━━━━\u001b[0m \u001b[32m22.0/22.0 MB\u001b[0m \u001b[31m50.9 MB/s\u001b[0m eta \u001b[36m0:00:00\u001b[0m\n",
      "\u001b[?25hDownloading umap_learn-0.5.7-py3-none-any.whl (88 kB)\n",
      "\u001b[2K   \u001b[90m━━━━━━━━━━━━━━━━━━━━━━━━━━━━━━━━━━━━━━━━\u001b[0m \u001b[32m88.8/88.8 kB\u001b[0m \u001b[31m9.5 MB/s\u001b[0m eta \u001b[36m0:00:00\u001b[0m\n",
      "\u001b[?25hDownloading lz4-4.3.3-cp310-cp310-manylinux_2_17_x86_64.manylinux2014_x86_64.whl (1.3 MB)\n",
      "\u001b[2K   \u001b[90m━━━━━━━━━━━━━━━━━━━━━━━━━━━━━━━━━━━━━━━━\u001b[0m \u001b[32m1.3/1.3 MB\u001b[0m \u001b[31m69.1 MB/s\u001b[0m eta \u001b[36m0:00:00\u001b[0m\n",
      "\u001b[?25hDownloading pinecone_plugin_inference-1.1.0-py3-none-any.whl (85 kB)\n",
      "\u001b[2K   \u001b[90m━━━━━━━━━━━━━━━━━━━━━━━━━━━━━━━━━━━━━━━━\u001b[0m \u001b[32m85.4/85.4 kB\u001b[0m \u001b[31m9.1 MB/s\u001b[0m eta \u001b[36m0:00:00\u001b[0m\n",
      "\u001b[?25hDownloading pinecone_plugin_interface-0.0.7-py3-none-any.whl (6.2 kB)\n",
      "Downloading protobuf-4.25.5-cp37-abi3-manylinux2014_x86_64.whl (294 kB)\n",
      "\u001b[2K   \u001b[90m━━━━━━━━━━━━━━━━━━━━━━━━━━━━━━━━━━━━━━━━\u001b[0m \u001b[32m294.6/294.6 kB\u001b[0m \u001b[31m26.5 MB/s\u001b[0m eta \u001b[36m0:00:00\u001b[0m\n",
      "\u001b[?25hDownloading protoc_gen_openapiv2-0.0.1-py3-none-any.whl (7.9 kB)\n",
      "Downloading pynndescent-0.5.13-py3-none-any.whl (56 kB)\n",
      "\u001b[2K   \u001b[90m━━━━━━━━━━━━━━━━━━━━━━━━━━━━━━━━━━━━━━━━\u001b[0m \u001b[32m56.9/56.9 kB\u001b[0m \u001b[31m5.5 MB/s\u001b[0m eta \u001b[36m0:00:00\u001b[0m\n",
      "\u001b[?25hBuilding wheels for collected packages: dna2vec\n",
      "  Building editable for dna2vec (pyproject.toml) ... \u001b[?25l\u001b[?25hdone\n",
      "  Created wheel for dna2vec: filename=dna2vec-0.0.4-0.editable-py3-none-any.whl size=2229 sha256=8451e17f805bfcc307f800aebfe3baa783714d7153cefb9e04f714478ca7d137\n",
      "  Stored in directory: /tmp/pip-ephem-wheel-cache-75j9vbwk/wheels/c0/90/66/45fec3498d6d600e4975c5bf0a2efeebd3b6349b88c0af2844\n",
      "Successfully built dna2vec\n",
      "Installing collected packages: pysam, pydantic, protobuf, pinecone-plugin-interface, lz4, biopython, pinecone-plugin-inference, pynndescent, protoc-gen-openapiv2, pinecone-client, umap-learn, dna2vec\n",
      "  Attempting uninstall: pydantic\n",
      "    Found existing installation: pydantic 2.9.2\n",
      "    Uninstalling pydantic-2.9.2:\n",
      "      Successfully uninstalled pydantic-2.9.2\n",
      "  Attempting uninstall: protobuf\n",
      "    Found existing installation: protobuf 3.20.3\n",
      "    Uninstalling protobuf-3.20.3:\n",
      "      Successfully uninstalled protobuf-3.20.3\n",
      "\u001b[31mERROR: pip's dependency resolver does not currently take into account all the packages that are installed. This behaviour is the source of the following dependency conflicts.\n",
      "albumentations 1.4.20 requires pydantic>=2.7.0, but you have pydantic 1.10.18 which is incompatible.\n",
      "langchain 0.3.4 requires pydantic<3.0.0,>=2.7.4, but you have pydantic 1.10.18 which is incompatible.\n",
      "langchain-core 0.3.13 requires pydantic<3.0.0,>=2.5.2; python_full_version < \"3.12.4\", but you have pydantic 1.10.18 which is incompatible.\n",
      "tensorflow-metadata 1.16.1 requires protobuf<4.21,>=3.20.3; python_version < \"3.11\", but you have protobuf 4.25.5 which is incompatible.\u001b[0m\u001b[31m\n",
      "\u001b[0mSuccessfully installed biopython-1.84 dna2vec-0.0.4 lz4-4.3.3 pinecone-client-5.0.1 pinecone-plugin-inference-1.1.0 pinecone-plugin-interface-0.0.7 protobuf-4.25.5 protoc-gen-openapiv2-0.0.1 pydantic-1.10.18 pynndescent-0.5.13 pysam-0.22.1 umap-learn-0.5.7\n"
     ]
    }
   ],
   "source": [
    "!pip3 install -e ."
   ]
  },
  {
   "cell_type": "code",
   "execution_count": 6,
   "metadata": {
    "colab": {
     "base_uri": "https://localhost:8080/"
    },
    "executionInfo": {
     "elapsed": 8,
     "status": "ok",
     "timestamp": 1730552351925,
     "user": {
      "displayName": "Martin Benedikt",
      "userId": "14403674078649230072"
     },
     "user_tz": -60
    },
    "id": "mSc74hJy9T__",
    "outputId": "49a9eb01-2f68-40f2-fa78-171375a6bd9c"
   },
   "outputs": [
    {
     "name": "stdout",
     "output_type": "stream",
     "text": [
      " configs    ncbi_dataset    'Read simulation Using ART.pdf'   train.py\n",
      " docs\t    pyproject.toml   src\t\t\t      Untitled0.ipynb\n",
      " evaluate   readme.md\t     tests\n"
     ]
    }
   ],
   "source": [
    "!ls"
   ]
  },
  {
   "cell_type": "code",
   "execution_count": 6,
   "metadata": {
    "colab": {
     "base_uri": "https://localhost:8080/"
    },
    "executionInfo": {
     "elapsed": 2345877,
     "status": "ok",
     "timestamp": 1730561015653,
     "user": {
      "displayName": "Martin Benedikt",
      "userId": "14403674078649230072"
     },
     "user_tz": -60
    },
    "id": "2kcMBJROo8dY",
    "outputId": "d32458f2-645e-4129-fa4d-3763bdad68f7"
   },
   "outputs": [
    {
     "name": "stdout",
     "output_type": "stream",
     "text": [
      "/usr/local/lib/python3.10/dist-packages/torch/nn/modules/transformer.py:379: UserWarning: enable_nested_tensor is True, but self.use_nested_tensor is False because encoder_layer.norm_first was True\n",
      "  warnings.warn(\n",
      "\u001b[34m\u001b[1mwandb\u001b[0m: Using wandb-core as the SDK backend. Please refer to https://wandb.me/wandb-core for more information.\n",
      "\u001b[34m\u001b[1mwandb\u001b[0m: Currently logged in as: \u001b[33mbenedma2\u001b[0m (\u001b[33mbenedma2-greppix-and-personal\u001b[0m). Use \u001b[1m`wandb login --relogin`\u001b[0m to force relogin\n",
      "\u001b[34m\u001b[1mwandb\u001b[0m: Tracking run with wandb version 0.18.5\n",
      "\u001b[34m\u001b[1mwandb\u001b[0m: Run data is saved locally in \u001b[35m\u001b[1m/content/drive/MyDrive/dna2vec-7E4E/wandb/run-20241102_144439-6z9qbx0o\u001b[0m\n",
      "\u001b[34m\u001b[1mwandb\u001b[0m: Run \u001b[1m`wandb offline`\u001b[0m to turn off syncing.\n",
      "\u001b[34m\u001b[1mwandb\u001b[0m: Syncing run \u001b[33mchocolate-breeze-5\u001b[0m\n",
      "\u001b[34m\u001b[1mwandb\u001b[0m: ⭐️ View project at \u001b[34m\u001b[4mhttps://wandb.ai/benedma2-greppix-and-personal/dna2vec\u001b[0m\n",
      "\u001b[34m\u001b[1mwandb\u001b[0m: 🚀 View run at \u001b[34m\u001b[4mhttps://wandb.ai/benedma2-greppix-and-personal/dna2vec/runs/6z9qbx0o\u001b[0m\n",
      "\u001b[34m\u001b[1mwandb\u001b[0m: logging graph, to disable use `wandb.watch(log_graph=False)`\n",
      "Traceback (most recent call last):\n",
      "  File \"/content/drive/MyDrive/dna2vec-7E4E/train.py\", line 35, in <module>\n",
      "    main(CONFIG, watch_watch=True)\n",
      "  File \"/content/drive/MyDrive/dna2vec-7E4E/src/dna2vec/main.py\", line 70, in main\n",
      "    trainer.train(\n",
      "  File \"/content/drive/MyDrive/dna2vec-7E4E/src/dna2vec/trainer.py\", line 81, in train\n",
      "    for step, (x_1, x_2) in enumerate(self.train_dataloader):\n",
      "  File \"/usr/local/lib/python3.10/dist-packages/torch/utils/data/dataloader.py\", line 701, in __next__\n",
      "    data = self._next_data()\n",
      "  File \"/usr/local/lib/python3.10/dist-packages/torch/utils/data/dataloader.py\", line 757, in _next_data\n",
      "    data = self._dataset_fetcher.fetch(index)  # may raise StopIteration\n",
      "  File \"/usr/local/lib/python3.10/dist-packages/torch/utils/data/_utils/fetch.py\", line 43, in fetch\n",
      "    return self.collate_fn(data)\n",
      "  File \"/content/drive/MyDrive/dna2vec-7E4E/src/dna2vec/dataset.py\", line 207, in collate_fn\n",
      "    return x_1.to_torch(), x_2.to_torch()\n",
      "  File \"/content/drive/MyDrive/dna2vec-7E4E/src/dna2vec/tokenizer.py\", line 26, in to_torch\n",
      "    \"attention_mask\": torch.tensor([x.attention_mask for x in self.encodings]),\n",
      "KeyboardInterrupt\n",
      "\u001b[1;34mwandb\u001b[0m: 🚀 View run \u001b[33mchocolate-breeze-5\u001b[0m at: \u001b[34mhttps://wandb.ai/benedma2-greppix-and-personal/dna2vec/runs/6z9qbx0o\u001b[0m\n",
      "\u001b[1;34mwandb\u001b[0m: Find logs at: \u001b[1;35mwandb/run-20241102_144439-6z9qbx0o/logs\u001b[0m\n"
     ]
    }
   ],
   "source": [
    "!python3 train.py"
   ]
  },
  {
   "cell_type": "code",
   "execution_count": 4,
   "metadata": {
    "colab": {
     "base_uri": "https://localhost:8080/"
    },
    "executionInfo": {
     "elapsed": 1904,
     "status": "ok",
     "timestamp": 1730570908947,
     "user": {
      "displayName": "Martin Benedikt",
      "userId": "14403674078649230072"
     },
     "user_tz": -60
    },
    "id": "eBKkRgZ9_LXL",
    "outputId": "4244bc79-5a8b-4b2c-d371-20fe4b1de4f9"
   },
   "outputs": [
    {
     "name": "stdout",
     "output_type": "stream",
     "text": [
      "True\n",
      "1\n"
     ]
    }
   ],
   "source": [
    "import torch\n",
    "print(torch.cuda.is_available())\n",
    "print(torch.cuda.device_count())"
   ]
  },
  {
   "cell_type": "code",
   "execution_count": 20,
   "metadata": {
    "colab": {
     "base_uri": "https://localhost:8080/"
    },
    "executionInfo": {
     "elapsed": 2611,
     "status": "ok",
     "timestamp": 1730561758202,
     "user": {
      "displayName": "Martin Benedikt",
      "userId": "14403674078649230072"
     },
     "user_tz": -60
    },
    "id": "aX__6-25hKjt",
    "outputId": "38295f8d-30f5-4763-c96e-c30a55506958"
   },
   "outputs": [
    {
     "name": "stdout",
     "output_type": "stream",
     "text": [
      "Requirement already satisfied: dna2vec in /usr/local/lib/python3.10/dist-packages (0.0.4)\n",
      "Requirement already satisfied: torch>=2.0.0 in /usr/local/lib/python3.10/dist-packages (from dna2vec) (2.5.0+cu121)\n",
      "Requirement already satisfied: sentence-transformers>=2.2.0 in /usr/local/lib/python3.10/dist-packages (from dna2vec) (3.2.1)\n",
      "Requirement already satisfied: umap-learn>=0.1.1 in /usr/local/lib/python3.10/dist-packages (from dna2vec) (0.5.7)\n",
      "Requirement already satisfied: tqdm>=4.62.0 in /usr/local/lib/python3.10/dist-packages (from dna2vec) (4.66.6)\n",
      "Requirement already satisfied: pinecone-client>2.2.0 in /usr/local/lib/python3.10/dist-packages (from pinecone-client[grpc]>2.2.0->dna2vec) (5.0.1)\n",
      "Requirement already satisfied: pydantic<2.0.0,>=1.8.2 in /usr/local/lib/python3.10/dist-packages (from dna2vec) (1.10.18)\n",
      "Requirement already satisfied: typer>=0.3.2 in /usr/local/lib/python3.10/dist-packages (from dna2vec) (0.12.5)\n",
      "Requirement already satisfied: tokenizers>=0.13.3 in /usr/local/lib/python3.10/dist-packages (from dna2vec) (0.19.1)\n",
      "Requirement already satisfied: wandb>=0.12.1 in /usr/local/lib/python3.10/dist-packages (from dna2vec) (0.18.5)\n",
      "Requirement already satisfied: biopython>=1.81 in /usr/local/lib/python3.10/dist-packages (from dna2vec) (1.84)\n",
      "Requirement already satisfied: pysam>=0.21.0 in /usr/local/lib/python3.10/dist-packages (from dna2vec) (0.22.1)\n",
      "Requirement already satisfied: numpy in /usr/local/lib/python3.10/dist-packages (from biopython>=1.81->dna2vec) (1.26.4)\n",
      "Requirement already satisfied: certifi>=2019.11.17 in /usr/local/lib/python3.10/dist-packages (from pinecone-client>2.2.0->pinecone-client[grpc]>2.2.0->dna2vec) (2024.8.30)\n",
      "Requirement already satisfied: pinecone-plugin-inference<2.0.0,>=1.0.3 in /usr/local/lib/python3.10/dist-packages (from pinecone-client>2.2.0->pinecone-client[grpc]>2.2.0->dna2vec) (1.1.0)\n",
      "Requirement already satisfied: pinecone-plugin-interface<0.0.8,>=0.0.7 in /usr/local/lib/python3.10/dist-packages (from pinecone-client>2.2.0->pinecone-client[grpc]>2.2.0->dna2vec) (0.0.7)\n",
      "Requirement already satisfied: typing-extensions>=3.7.4 in /usr/local/lib/python3.10/dist-packages (from pinecone-client>2.2.0->pinecone-client[grpc]>2.2.0->dna2vec) (4.12.2)\n",
      "Requirement already satisfied: urllib3>=1.26.0 in /usr/local/lib/python3.10/dist-packages (from pinecone-client>2.2.0->pinecone-client[grpc]>2.2.0->dna2vec) (2.2.3)\n",
      "Requirement already satisfied: googleapis-common-protos>=1.53.0 in /usr/local/lib/python3.10/dist-packages (from pinecone-client[grpc]>2.2.0->dna2vec) (1.65.0)\n",
      "Requirement already satisfied: grpcio>=1.44.0 in /usr/local/lib/python3.10/dist-packages (from pinecone-client[grpc]>2.2.0->dna2vec) (1.64.1)\n",
      "Requirement already satisfied: lz4>=3.1.3 in /usr/local/lib/python3.10/dist-packages (from pinecone-client[grpc]>2.2.0->dna2vec) (4.3.3)\n",
      "Requirement already satisfied: protobuf<5.0,>=4.25 in /usr/local/lib/python3.10/dist-packages (from pinecone-client[grpc]>2.2.0->dna2vec) (4.25.5)\n",
      "Requirement already satisfied: protoc-gen-openapiv2<0.0.2,>=0.0.1 in /usr/local/lib/python3.10/dist-packages (from pinecone-client[grpc]>2.2.0->dna2vec) (0.0.1)\n",
      "Requirement already satisfied: transformers<5.0.0,>=4.41.0 in /usr/local/lib/python3.10/dist-packages (from sentence-transformers>=2.2.0->dna2vec) (4.44.2)\n",
      "Requirement already satisfied: scikit-learn in /usr/local/lib/python3.10/dist-packages (from sentence-transformers>=2.2.0->dna2vec) (1.5.2)\n",
      "Requirement already satisfied: scipy in /usr/local/lib/python3.10/dist-packages (from sentence-transformers>=2.2.0->dna2vec) (1.13.1)\n",
      "Requirement already satisfied: huggingface-hub>=0.20.0 in /usr/local/lib/python3.10/dist-packages (from sentence-transformers>=2.2.0->dna2vec) (0.24.7)\n",
      "Requirement already satisfied: Pillow in /usr/local/lib/python3.10/dist-packages (from sentence-transformers>=2.2.0->dna2vec) (10.4.0)\n",
      "Requirement already satisfied: filelock in /usr/local/lib/python3.10/dist-packages (from torch>=2.0.0->dna2vec) (3.16.1)\n",
      "Requirement already satisfied: networkx in /usr/local/lib/python3.10/dist-packages (from torch>=2.0.0->dna2vec) (3.4.2)\n",
      "Requirement already satisfied: jinja2 in /usr/local/lib/python3.10/dist-packages (from torch>=2.0.0->dna2vec) (3.1.4)\n",
      "Requirement already satisfied: fsspec in /usr/local/lib/python3.10/dist-packages (from torch>=2.0.0->dna2vec) (2024.10.0)\n",
      "Requirement already satisfied: sympy==1.13.1 in /usr/local/lib/python3.10/dist-packages (from torch>=2.0.0->dna2vec) (1.13.1)\n",
      "Requirement already satisfied: mpmath<1.4,>=1.1.0 in /usr/local/lib/python3.10/dist-packages (from sympy==1.13.1->torch>=2.0.0->dna2vec) (1.3.0)\n",
      "Requirement already satisfied: click>=8.0.0 in /usr/local/lib/python3.10/dist-packages (from typer>=0.3.2->dna2vec) (8.1.7)\n",
      "Requirement already satisfied: shellingham>=1.3.0 in /usr/local/lib/python3.10/dist-packages (from typer>=0.3.2->dna2vec) (1.5.4)\n",
      "Requirement already satisfied: rich>=10.11.0 in /usr/local/lib/python3.10/dist-packages (from typer>=0.3.2->dna2vec) (13.9.3)\n",
      "Requirement already satisfied: numba>=0.51.2 in /usr/local/lib/python3.10/dist-packages (from umap-learn>=0.1.1->dna2vec) (0.60.0)\n",
      "Requirement already satisfied: pynndescent>=0.5 in /usr/local/lib/python3.10/dist-packages (from umap-learn>=0.1.1->dna2vec) (0.5.13)\n",
      "Requirement already satisfied: docker-pycreds>=0.4.0 in /usr/local/lib/python3.10/dist-packages (from wandb>=0.12.1->dna2vec) (0.4.0)\n",
      "Requirement already satisfied: gitpython!=3.1.29,>=1.0.0 in /usr/local/lib/python3.10/dist-packages (from wandb>=0.12.1->dna2vec) (3.1.43)\n",
      "Requirement already satisfied: platformdirs in /usr/local/lib/python3.10/dist-packages (from wandb>=0.12.1->dna2vec) (4.3.6)\n",
      "Requirement already satisfied: psutil>=5.0.0 in /usr/local/lib/python3.10/dist-packages (from wandb>=0.12.1->dna2vec) (5.9.5)\n",
      "Requirement already satisfied: pyyaml in /usr/local/lib/python3.10/dist-packages (from wandb>=0.12.1->dna2vec) (6.0.2)\n",
      "Requirement already satisfied: requests<3,>=2.0.0 in /usr/local/lib/python3.10/dist-packages (from wandb>=0.12.1->dna2vec) (2.32.3)\n",
      "Requirement already satisfied: sentry-sdk>=2.0.0 in /usr/local/lib/python3.10/dist-packages (from wandb>=0.12.1->dna2vec) (2.17.0)\n",
      "Requirement already satisfied: setproctitle in /usr/local/lib/python3.10/dist-packages (from wandb>=0.12.1->dna2vec) (1.3.3)\n",
      "Requirement already satisfied: setuptools in /usr/local/lib/python3.10/dist-packages (from wandb>=0.12.1->dna2vec) (75.1.0)\n",
      "Requirement already satisfied: six>=1.4.0 in /usr/local/lib/python3.10/dist-packages (from docker-pycreds>=0.4.0->wandb>=0.12.1->dna2vec) (1.16.0)\n",
      "Requirement already satisfied: gitdb<5,>=4.0.1 in /usr/local/lib/python3.10/dist-packages (from gitpython!=3.1.29,>=1.0.0->wandb>=0.12.1->dna2vec) (4.0.11)\n",
      "Requirement already satisfied: packaging>=20.9 in /usr/local/lib/python3.10/dist-packages (from huggingface-hub>=0.20.0->sentence-transformers>=2.2.0->dna2vec) (24.1)\n",
      "Requirement already satisfied: llvmlite<0.44,>=0.43.0dev0 in /usr/local/lib/python3.10/dist-packages (from numba>=0.51.2->umap-learn>=0.1.1->dna2vec) (0.43.0)\n",
      "Requirement already satisfied: joblib>=0.11 in /usr/local/lib/python3.10/dist-packages (from pynndescent>=0.5->umap-learn>=0.1.1->dna2vec) (1.4.2)\n",
      "Requirement already satisfied: charset-normalizer<4,>=2 in /usr/local/lib/python3.10/dist-packages (from requests<3,>=2.0.0->wandb>=0.12.1->dna2vec) (3.4.0)\n",
      "Requirement already satisfied: idna<4,>=2.5 in /usr/local/lib/python3.10/dist-packages (from requests<3,>=2.0.0->wandb>=0.12.1->dna2vec) (3.10)\n",
      "Requirement already satisfied: markdown-it-py>=2.2.0 in /usr/local/lib/python3.10/dist-packages (from rich>=10.11.0->typer>=0.3.2->dna2vec) (3.0.0)\n",
      "Requirement already satisfied: pygments<3.0.0,>=2.13.0 in /usr/local/lib/python3.10/dist-packages (from rich>=10.11.0->typer>=0.3.2->dna2vec) (2.18.0)\n",
      "Requirement already satisfied: threadpoolctl>=3.1.0 in /usr/local/lib/python3.10/dist-packages (from scikit-learn->sentence-transformers>=2.2.0->dna2vec) (3.5.0)\n",
      "Requirement already satisfied: regex!=2019.12.17 in /usr/local/lib/python3.10/dist-packages (from transformers<5.0.0,>=4.41.0->sentence-transformers>=2.2.0->dna2vec) (2024.9.11)\n",
      "Requirement already satisfied: safetensors>=0.4.1 in /usr/local/lib/python3.10/dist-packages (from transformers<5.0.0,>=4.41.0->sentence-transformers>=2.2.0->dna2vec) (0.4.5)\n",
      "Requirement already satisfied: MarkupSafe>=2.0 in /usr/local/lib/python3.10/dist-packages (from jinja2->torch>=2.0.0->dna2vec) (3.0.2)\n",
      "Requirement already satisfied: smmap<6,>=3.0.1 in /usr/local/lib/python3.10/dist-packages (from gitdb<5,>=4.0.1->gitpython!=3.1.29,>=1.0.0->wandb>=0.12.1->dna2vec) (5.0.1)\n",
      "Requirement already satisfied: mdurl~=0.1 in /usr/local/lib/python3.10/dist-packages (from markdown-it-py>=2.2.0->rich>=10.11.0->typer>=0.3.2->dna2vec) (0.1.2)\n"
     ]
    }
   ],
   "source": [
    "pip install dna2vec"
   ]
  },
  {
   "cell_type": "code",
   "execution_count": 4,
   "metadata": {
    "executionInfo": {
     "elapsed": 2362,
     "status": "ok",
     "timestamp": 1730571805767,
     "user": {
      "displayName": "Martin Benedikt",
      "userId": "14403674078649230072"
     },
     "user_tz": -60
    },
    "id": "sdft8Yp8AG_X"
   },
   "outputs": [],
   "source": [
    "import torch\n",
    "import transformers\n",
    "import sys"
   ]
  },
  {
   "cell_type": "code",
   "execution_count": 5,
   "metadata": {
    "executionInfo": {
     "elapsed": 2,
     "status": "ok",
     "timestamp": 1730571805767,
     "user": {
      "displayName": "Martin Benedikt",
      "userId": "14403674078649230072"
     },
     "user_tz": -60
    },
    "id": "2LVAPj9bifk0"
   },
   "outputs": [],
   "source": [
    "sys.path.append(\"/content/drive/MyDrive/dna2vec-7E4E/src\")"
   ]
  },
  {
   "cell_type": "code",
   "execution_count": 6,
   "metadata": {
    "colab": {
     "base_uri": "https://localhost:8080/"
    },
    "executionInfo": {
     "elapsed": 12,
     "status": "ok",
     "timestamp": 1730571467024,
     "user": {
      "displayName": "Martin Benedikt",
      "userId": "14403674078649230072"
     },
     "user_tz": -60
    },
    "id": "kZ44nLl_iIEX",
    "outputId": "6a7177ba-b44f-4b7d-f0f0-f0183623ccf2"
   },
   "outputs": [
    {
     "name": "stdout",
     "output_type": "stream",
     "text": [
      "/content/drive/MyDrive/dna2vec-7E4E\n"
     ]
    }
   ],
   "source": [
    "!pwd"
   ]
  },
  {
   "cell_type": "code",
   "execution_count": 7,
   "metadata": {
    "colab": {
     "base_uri": "https://localhost:8080/"
    },
    "executionInfo": {
     "elapsed": 389,
     "status": "ok",
     "timestamp": 1730571467408,
     "user": {
      "displayName": "Martin Benedikt",
      "userId": "14403674078649230072"
     },
     "user_tz": -60
    },
    "id": "IxW-7Q1kiPLG",
    "outputId": "87a4d596-67e0-4308-9889-8ad3c5dd8784"
   },
   "outputs": [
    {
     "name": "stdout",
     "output_type": "stream",
     "text": [
      " configs    models\t     readme.md\t\t\t      tests\t        wandb\n",
      " docs\t    ncbi_dataset    'Read simulation Using ART.pdf'   train.py\n",
      " evaluate   pyproject.toml   src\t\t\t      Untitled0.ipynb\n"
     ]
    }
   ],
   "source": [
    "!ls"
   ]
  },
  {
   "cell_type": "code",
   "execution_count": 24,
   "metadata": {
    "colab": {
     "base_uri": "https://localhost:8080/"
    },
    "executionInfo": {
     "elapsed": 452,
     "status": "ok",
     "timestamp": 1730572566203,
     "user": {
      "displayName": "Martin Benedikt",
      "userId": "14403674078649230072"
     },
     "user_tz": -60
    },
    "id": "WaEN-a8Vfs_E",
    "outputId": "51bbc0b1-16f7-418d-e7f7-f208464c9d20"
   },
   "outputs": [
    {
     "name": "stderr",
     "output_type": "stream",
     "text": [
      "<ipython-input-24-79ae2be507fd>:3: FutureWarning: You are using `torch.load` with `weights_only=False` (the current default value), which uses the default pickle module implicitly. It is possible to construct malicious pickle data which will execute arbitrary code during unpickling (See https://github.com/pytorch/pytorch/blob/main/SECURITY.md#untrusted-models for more details). In a future release, the default value for `weights_only` will be flipped to `True`. This limits the functions that could be executed during unpickling. Arbitrary objects will no longer be allowed to be loaded via this mode unless they are explicitly allowlisted by the user via `torch.serialization.add_safe_globals`. We recommend you start setting `weights_only=True` for any use case where you don't have full control of the loaded file. Please open an issue on GitHub for any issues related to this experimental feature.\n",
      "  checkpoints['trained']['model'] = torch.load(\"/content/drive/MyDrive/dna2vec-7E4E/models/checkpoint.pt\")\n"
     ]
    }
   ],
   "source": [
    "checkpoints = {}\n",
    "checkpoints['trained'] = {}\n",
    "checkpoints['trained']['model'] = torch.load(\"/content/drive/MyDrive/dna2vec-7E4E/models/checkpoint.pt\")"
   ]
  },
  {
   "cell_type": "code",
   "execution_count": 7,
   "metadata": {
    "executionInfo": {
     "elapsed": 2,
     "status": "ok",
     "timestamp": 1730571807391,
     "user": {
      "displayName": "Martin Benedikt",
      "userId": "14403674078649230072"
     },
     "user_tz": -60
    },
    "id": "8SgikZqngZjz"
   },
   "outputs": [],
   "source": [
    "config = checkpoints['trained']['model']['config']"
   ]
  },
  {
   "cell_type": "code",
   "execution_count": 8,
   "metadata": {
    "executionInfo": {
     "elapsed": 3,
     "status": "ok",
     "timestamp": 1730571807754,
     "user": {
      "displayName": "Martin Benedikt",
      "userId": "14403674078649230072"
     },
     "user_tz": -60
    },
    "id": "-vMkIArgiyE9"
   },
   "outputs": [],
   "source": [
    "config.model_config.tokenizer_path = 'src/model/tokenizers/dna_tokenizer_10k.json'"
   ]
  },
  {
   "cell_type": "code",
   "execution_count": 9,
   "metadata": {
    "executionInfo": {
     "elapsed": 8,
     "status": "ok",
     "timestamp": 1730571808002,
     "user": {
      "displayName": "Martin Benedikt",
      "userId": "14403674078649230072"
     },
     "user_tz": -60
    },
    "id": "ceNDR1F2mCzD"
   },
   "outputs": [],
   "source": [
    "model_kwargs = config.dict()"
   ]
  },
  {
   "cell_type": "code",
   "execution_count": 10,
   "metadata": {
    "colab": {
     "base_uri": "https://localhost:8080/"
    },
    "executionInfo": {
     "elapsed": 5,
     "status": "ok",
     "timestamp": 1730571808240,
     "user": {
      "displayName": "Martin Benedikt",
      "userId": "14403674078649230072"
     },
     "user_tz": -60
    },
    "id": "PHorapkXmRO2",
    "outputId": "b3cbf944-884e-425f-98ac-c3aabe40062a"
   },
   "outputs": [
    {
     "data": {
      "text/plain": [
       "{'model_config': {'embedding_dim': 384,\n",
       "  'dim_feedforward': 1536,\n",
       "  'vocab_size': 10004,\n",
       "  'num_heads': 12,\n",
       "  'num_layers': 6,\n",
       "  'dropout': 0.1,\n",
       "  'activation': 'gelu',\n",
       "  'pos_embedding': dna2vec.model.SinusoidalPositionalEncoding,\n",
       "  'pooling': AveragePooler(),\n",
       "  'max_position_embeddings': 1024,\n",
       "  'tokenizer_path': 'src/model/tokenizers/dna_tokenizer_10k.json',\n",
       "  'model_path': None},\n",
       " 'training_config': {'batch_size': 256,\n",
       "  'optimizer': torch.optim.adam.Adam,\n",
       "  'optimizer_config': {'lr': 0.0001,\n",
       "   'betas': (0.9, 0.999),\n",
       "   'weight_decay': 0.01,\n",
       "   'eps': 1e-08},\n",
       "  'similarity': dna2vec.similarity.SimilarityWithTemperature,\n",
       "  'temperature': 0.05,\n",
       "  'loss': CrossEntropyLoss(),\n",
       "  'accumulation_steps': 4,\n",
       "  'max_grad_norm': 1.0,\n",
       "  'scheduler': torch.optim.lr_scheduler.OneCycleLR,\n",
       "  'scheduler_config': {'max_lr': 0.0001,\n",
       "   'anneal_strategy': 'cos',\n",
       "   'total_steps': 25000},\n",
       "  'save_path': PosixPath('/content/drive/MyDrive/dna2vec-7E4E/models'),\n",
       "  'max_steps': 100000,\n",
       "  'log_interval': 50,\n",
       "  'device': device(type='cuda')},\n",
       " 'dataset_config': {'dataset': dna2vec.dataset.FastaUniformSampler,\n",
       "  'fasta_file': [PosixPath('ncbi_dataset/ncbi_dataset/data/GCA_009914755.4/GCA_009914755.4_T2T-CHM13v2.0_genomic.fna')],\n",
       "  'sampling_strategy': 'random_subsequence_uppercase',\n",
       "  'range_min': 800,\n",
       "  'range_max': 2000,\n",
       "  'subsequence_range_min': 80,\n",
       "  'subsequence_range_max': 180}}"
      ]
     },
     "execution_count": 10,
     "metadata": {},
     "output_type": "execute_result"
    }
   ],
   "source": [
    "model_kwargs"
   ]
  },
  {
   "cell_type": "code",
   "execution_count": 11,
   "metadata": {
    "colab": {
     "base_uri": "https://localhost:8080/",
     "height": 35
    },
    "executionInfo": {
     "elapsed": 241,
     "status": "ok",
     "timestamp": 1730571810290,
     "user": {
      "displayName": "Martin Benedikt",
      "userId": "14403674078649230072"
     },
     "user_tz": -60
    },
    "id": "oxjoVV9ZmH3g",
    "outputId": "b35769f0-c437-4ba8-a1bf-22cb8a8d895f"
   },
   "outputs": [
    {
     "data": {
      "application/vnd.google.colaboratory.intrinsic+json": {
       "type": "string"
      },
      "text/plain": [
       "'src/model/tokenizers/dna_tokenizer_10k.json'"
      ]
     },
     "execution_count": 11,
     "metadata": {},
     "output_type": "execute_result"
    }
   ],
   "source": [
    "model_kwargs[\"model_config\"][\"tokenizer_path\"]"
   ]
  },
  {
   "cell_type": "code",
   "execution_count": 12,
   "metadata": {
    "colab": {
     "base_uri": "https://localhost:8080/"
    },
    "executionInfo": {
     "elapsed": 276,
     "status": "ok",
     "timestamp": 1730571811527,
     "user": {
      "displayName": "Martin Benedikt",
      "userId": "14403674078649230072"
     },
     "user_tz": -60
    },
    "id": "bH87Z_WGjJPI",
    "outputId": "0beb3b4d-5bef-4640-db39-969f24bfd483"
   },
   "outputs": [
    {
     "name": "stdout",
     "output_type": "stream",
     "text": [
      "src/model/tokenizers/dna_tokenizer_10k.json\n"
     ]
    },
    {
     "name": "stderr",
     "output_type": "stream",
     "text": [
      "/usr/local/lib/python3.10/dist-packages/torch/nn/modules/transformer.py:379: UserWarning: enable_nested_tensor is True, but self.use_nested_tensor is False because encoder_layer.norm_first was True\n",
      "  warnings.warn(\n"
     ]
    }
   ],
   "source": [
    "from dna2vec.model import model_from_config\n",
    "from dna2vec.tokenizer import BPTokenizer\n",
    "from tokenizers import Encoding, Tokenizer, decoders, models, pre_tokenizers, processors\n",
    "from tokenizers.trainers import BpeTrainer\n",
    "\n",
    "encoder, pooling, tokenizer = model_from_config(config.model_config)"
   ]
  },
  {
   "cell_type": "code",
   "execution_count": 11,
   "metadata": {
    "colab": {
     "base_uri": "https://localhost:8080/"
    },
    "executionInfo": {
     "elapsed": 3,
     "status": "ok",
     "timestamp": 1730570397339,
     "user": {
      "displayName": "Martin Benedikt",
      "userId": "14403674078649230072"
     },
     "user_tz": -60
    },
    "id": "btZ1hLzR9D7l",
    "outputId": "49780ad3-e8fa-4af4-e4ec-df618d34f3f6"
   },
   "outputs": [
    {
     "data": {
      "text/plain": [
       "<dna2vec.tokenizer.BPTokenizer at 0x798201157010>"
      ]
     },
     "execution_count": 11,
     "metadata": {},
     "output_type": "execute_result"
    }
   ],
   "source": [
    "tokenizer"
   ]
  },
  {
   "cell_type": "code",
   "execution_count": 44,
   "metadata": {
    "colab": {
     "base_uri": "https://localhost:8080/"
    },
    "executionInfo": {
     "elapsed": 7,
     "status": "ok",
     "timestamp": 1730563547914,
     "user": {
      "displayName": "Martin Benedikt",
      "userId": "14403674078649230072"
     },
     "user_tz": -60
    },
    "id": "oSFXhuptnNyr",
    "outputId": "210ade66-857a-4b62-cd88-5fc8311acd35"
   },
   "outputs": [
    {
     "name": "stdout",
     "output_type": "stream",
     "text": [
      "tokenizers\n"
     ]
    }
   ],
   "source": [
    "!ls src/model/"
   ]
  },
  {
   "cell_type": "code",
   "execution_count": 7,
   "metadata": {
    "executionInfo": {
     "elapsed": 3,
     "status": "ok",
     "timestamp": 1730572851648,
     "user": {
      "displayName": "Martin Benedikt",
      "userId": "14403674078649230072"
     },
     "user_tz": -60
    },
    "id": "p6-p1n_HkrQF"
   },
   "outputs": [],
   "source": [
    "testik = [\"ATGCATACGCGGAAGGCAATAACGGAGGCAATTCGAAAATTAGGAGTCCAAACCGGTGACCTGTTGATGGTGCATGCCTCACTTAAAGCGATTGGTCCGGTCGAAGGAGGAGCGGAGACGGTCGTTGCCGCGTTACGCTCCGCGGTTGGGCCGACTGGCACTGTGATGGGATACGCGTCGTGGGACCGATCACCCTACGAGGAGACTCTGAATGGCGCTCGGTTGGATGACAAAGCCCGCCGTACCTGGCCGCCGTTCGATCCCGCAACGGCCGGGACTTACCGTGGGTTCGGCCTGCTGAATCAATTTCTGGTTCAAGCCCCCGGCGCGCGGCGCAGCGCGCACCCCGATGCATCGATGGTCGCGGTTGGTCCGCTAGCTGAAACGCTGACGGAGCCTCACGAACTCGGTCACGCCTTGGGGGAAGGGTCGCCCGTCGAGCGGTTCGTCCGCCTTGGCGGGAAGGCCCTGCTGTTGGGTGCGCCGCTAAACTCCGTTACCGCATTGCACTACGCCGAGGCGGTTGCGGATATCCCCAACAAACGATGGGTGACGTATGAGATGCCGATGCTTGGAAGAAACGGTGAAGTCGCCTGGAAAACGGCATCAGAATACGATTCAAACGGCATTCTCGATTGCTTTGCTATCGAAGGAAAGCCGGATGCGGTCGAAACTATAGCAAATGCTTACGTGAAGCTCGGTCGCCATCGAGAAGGTGTCGTGGGCTTTGCTCAGTGCTACCTGTTCGACGCGCAGGACATCGTGACGTTCGGCGTCACCTATCTTGAGAAGCACTTCGGAGCCACTCCGATCGTGCCAGCACACGAAGCCGCCCAGCGCTCTTGCGAGCCTTCCGGTTAG\",\"TGTTATGTAGCATTTAAAAATTAAGTTGTCAAAAACCGGTGTTTAACCTTGCGTCCTGTTACGAGAACTCATGTTTTCACCCACTTTTCTCGTGAAACGCTTTCGCGTTTTTCGTGCGCCGCTTCACCAACGGTGATTTCAATTTTCTGTTGTTTGGGTTTCGCAAGAAATAACCCAAAAAATTGGATTAAATAAAATCAAGAATTATCTCAAAGATTTTGATTATGGAAATCAAGACTTCTCTGGAGATAAAGAAAGAAACAACGGATTAACAGAAGCATGGCTCGAAAGTAGCTTAAAAATTTCACCAGAAGAACAAATTCAATTCCTGCGTAAAATTATTAATCACAATCTCCCAGTTAAAAACTCAGCCATAGAAAACACCATAGAGAACATGTATCTACAAGATCTGGATAATAGTACAAAACTGTATGGGAAAACTGGTGCAGGATTACAGCAAATAGAACCTTACAAAACGGATGGTTTGAAGGGTTTATTATGAGCAAAATCAGGACATAAATATGTTTTTGTGTCCGCACTTACAGGAAACTTGGGGTCGAATTTAACATCAAGCATAAAAGCCAAGAAAAATGCGATCACCATTCTAAACACACTAAATTTATAAAAAATCTAATGGCAAAATCGCCCAACCCTTCAATCAAGTCGGGACGGCCAAAAGCAAGCTTTTGGCTCCCCTCGCTGGCGCTCGGCGCCCCTTATTTCAAACGTTAGACGGCAAAGTCACAGACCGCGGGATCTCTTATGACCAACTACTTTGATAGCCCCTTCAAAGGCAAGCTGCTTTCTGAGCAAGTGAAGAACCCCAATATCAAAGTTGGGCGGTACAGCTATTACTCTGGCTACTATCATGGGCACTCATTCGATGACTGCGCACGGTATCTGTTTCCGGACCGTGATGACGTTGATAAGTTGATCATCGGTAGTTTCTGCTCTATCGGGAGTGGGGCTTCCTTTATCATGGCTGGCAATCAGGGGCATCGGTACGACTGGGCATCATCTTTCCCGTTCTTTTATATGCAGGAAGAACCTGCATTCTCAAGCGCACTCGATGCCTTCCAAAAAGCAGGTAATACTGTCATTGGCAATGACGTTTGGATCGGCTCTGAGGCAATGGTCATGCCCGGAATAAAGAAGATCGGGCACGGTGCGGTGATAGGCAGCCGCTCGTTGGTGACAAAAGATGTGGGGCACTGTTGCAAAGTTAGCGATGAGGCAGCCTTTTGTCTTATTCAAAGGCCTTACATTTCAAAAACTCTGCTTACCAGGCGCATTTCGCCCAGGGGATCACCATAATAAAATGCTGAGGCCTGGCCTTTGCGTAGTGCACGCATCACCTCAATACCTTTGATGGTGGCGTAAGCCGTCTTCATGGATTTAAATCCCAGCGTGGCGCCGATTATCCGTTTCAGTTTGCCATGATCGCATTCAATCACGTTGTTCCGGTACTTAATCTGTCGGTGTTCAACGTCAGACGGGCACCGGCCTTCGCGTTTGAGCAGAGCAAGCGCGCGACCATAGGCGGGCGCTTTATCCGTGTTGATGAATCGCGGGATCTGCCACTTCTTCACGTTGTTGAGGATTTTACCCAGAAACCGGTATGCAGCTTTGCTGTTACGACGGGAGGAGAGATAAAAATCGACAGTGCGGCCCCGGCTGTCGACGGCCCGGTACAGATACGCCCAGCGGCCATTGACCTTCACGTAGGTTTCATCCATGTGCCACGGGCAAAGATCGGAAGGGTTACGCCAGTACCAGCGCAGCCGTTTTTCCATTTCAGGCGCATAACGCTGAACCCAGCGGTAAATCGTGGAGTGATCGACATTCACTCCGCGTTCAGCCAGCATCTCCTGCAGCTCACGGTAACTGATGCCGTATTTGCAGTACCAGCGTACGGCCCACCAGAATGATGTCACGCTGAAAATGCCGGCCTTTGAATGGGTTCATGTGCAGCTCCATCAGCAAAAGGGGATGATAAGTTTATCACCACCGACTATTTGCAACAGTGCCTCTCGATAGGTATAGTGTTTTGCAGTTTAGAGGAGATATCGCGATGCATACGCGGAAGGCAATAACGGAGGCAATTCAAAATTCCGGCTCCAAACCGGTGACCTGTTGATGGTGCATGCCTCACTTAAAGCGATTGGTCCGGTCGAAGGAGGGGAGCCGGAGACGGTCGTTGCCGCGTTACGCTCCGCGGTTGGGCCGACTGGCACTGTGATGGGATACGCGTCGTGGGACCGATCACCCTACGAGGAGACTCTGAATGGCGCTCGGTTGGATGACAAAGCCCGCCGTACCTGGCCGCCGTTCGATCCCGCAACGGCCGGGACTTACCGTGGGTTCGGCCTGCTGAATCAATTTCTGGTTCAAGCCCCCGGCGCGCGGCGCAGCGCGCACCCCGATGCATCGATGGTCGCGGTTGGTCCGCTAGCTGAAACGCTGACGGAGCCTCACGAACTCGGTCACGCCTTGGGGGAAGGGTCGCCCGTCGAGCGGTTCGTCCGCCTTGGCGGGAAGGCCCTGCTGTTGGGTGCGCCGCTAAACTCCGTTACCGCATTGCACTACGCCGAGGCGGTTGCGGATATCCCCAACAAACGATGGGTGACGTATGAGATGCCGATGCTTGGAAGAAACGGTGAAGTCGCCTGCAAAAACCACCATCAGAATACGATTCAAACGGCATTCTCGATTGCTTTGCTATCGAAGGAAAGCCGGATGCGGTGAACTTATAGCAAATGCTTACGTGAAGCTCGGTCGCCATCGAGAAGGTGTCGTGGGCTTTGCTGAGTGTTACCTGTTCGACGCGCAGGACATCGTGACGTTCGTCACCTATCTTGAGAAGCACTTCGGAGCCACTCCGATCGTGCCAGCACACGAAGCCGCCCAGCGCTCTTGCGAGCCTTCCGGTTAGAGGCCGTCGACAATGATGATCTGGATCAACGGACCTTTCGGCGCCGGAAAGACGACTCTCGCTCAGCGGCTGCGCGATCGGCGTCCGAAATCGCTGATCTTTGACCCTGAGGAAATCGGGTTCGTGGTGAAAGAAACGGTCCCCATACCAGCGAGCGGAGACTATCAGGATCTCCCCTTGTGGAGGGGTTACCAGATCGCTGCGGTCAGCGAGATTCGCAGGAATTACTCGCAGGACATCATCATCCCAATGACGCTCGTGCACCCGGACTATCTGACTGAGATACTCGACGGGTTAAGGCAGATCGACGATCAGCTGCTGCACATCTTTCTGATGCTTAACGAGGACCTATTGCGTCACCGGATCTCGAACCAGACCATGCATCCTGACCCGAATCGGAATGCGGAGATTCGAGAGTGGCGATTAGCGAATGTCGCCCGATGCTTGGCCGCAAGGGAACGGCTTCCGTCCACAACCCGTGTTCTCGATAGTGGTGCACACACCAGCGATGAACTTGCAGCGATGGTGCTCGACAGACTCGATCAGCGCACCTGATCGCCTTAGAGCTGGCTCGGGAAATCTGCACAGCGGGGATAAGTGAGGATTACCTACAGACTTCGGCTGAGATGCCGGGAACAGGAGAGACCATGACGAGACGACCGCGCCGGAACCATAGCCCGGCTTTCAAGGCGAAGGTGGCACTTGCCGCCATCCGAGGTGAGCAGACGCTGGTGGAGTTGTCCCAGCAGTTCGATGTGCACGCCAACCAGATCAAGCAATGGAAAGACCAGCTCCTTGAGGGGGCGACAGGTGTGTTCGGCGATGAAACGAAAGCGGAGCCGTCGGGTCCGACCATCGATGTCAAAACACTAGCAGCGAAAATCGGCGAACTGACACTGGAGAACGATTTTTTATCCGGTGCGCTCGGCAAGGCGGGATTGCTGGGCGGAAAGAGAATCGATCGACCGCGAGCACAAGCTATCCGTCGTGCGCGGCTTCTCAGCTTCAGCCATAGCAGCGTCTACTATCTGTGCCTCGTCCGGTGTCTGACGGCAATCTGGCCCTTATGCGCCGGATTGACGAATTGCATCTCGACTACCCCTTTGCCGGAAGTCGGATGTTGCAAGGGCTCTTGAGAGGAGAAGGTCTGGAGACCGGGCGGCGACACGTCGCCACGTAGATGAAGAAGATGGGCATCAAGGCAATCTACCGCCGCCCGAACACCTCGAAACCAGCGCCAGGGCACATACGAAAGCTGGCAGTCACCCGGCCCAATCAGGTGTGGGCAATGGACCTGACCTACATCCCCATGGCGCGGGGATTTGTCTATCTGTGCGCCGTCGTGGACTGGTTCGCCCGGAAGGTCTTGTCATGGCGGTTGTCGATCACGATGGAAGCAGCCTTCTGCATCGAGGCGGTGGAGGAGGCACTTGCCCGTCATGGCAGGCCGGAAATCTTCAATACCGACCAGGGATCGCAGTTCACCTCCATCGACTTCACCGCCGTGCTGAAGAGGTCACAGATTGCCATCTCGATGGATGGCAAGGGTGCGTGGCGAGACAATGTCTTCGTCGAGCGGCTCTGGCGTTCGATCAAATACGAGGAAGTCTACCTCCATGCCTACAAGACTGTGTCCGAGGCACGCGCTGGCATCGCCCGATATCTGAACTTCTACAACACCAGACGCCCACATTGGCACTGTTGCAAAGTTAGCGATGAGGCAGCCTTTTGTCTTATTCAAAGGCCTTACATTTCAAAAACTCTGCTTACCAGGCGCATTTCGCCCAGGGGATCACCATAATAAAATGCTGGCATGGCCTTTGCGTAGTGCACGCATCACCTCAATACCTTTGATGGTGGCGTAAGCCGTCTTCATGGATTTAAATCCCAGCGTGGCGCCGATTATCCGTTTCAGTTTGCCATGATCGCATTCAATCACGTTGTTCCGGTACTTAATCTGTCGGTGTTCAACGTCAGACGGGCACCGGCCTTCGCGTTTGAGCAGAGCAAGCGCGCGACCATAGGCGGGCGCTTTATCCGTGTTGATGAATCGCGGGATCTGCCACTTCTTCACGTTGTTGAGGATTTTACCCAGAAACCGGTATGCAGCTTTGCTGTTACGACGGGAGGAGAGATAAAAATCGACAGTGCGGCCCCGGCTGTCGACGGCCCGGTACAGATACGCCCAGCGGCCATTGACCTTCACGTAGGTTTCATCCATGTGCCACGGGCAAAGATCGGAAGGGTTACGCCAGTACCAGCGCAGCCGTTTTTCCATTTCAGGCGCATAACGCTGAACCCAGCGGTAAATCGTGGAGTGATCGACATTCACTCCGCGTTCAGCCAGCATCTCCTGCAGCTCACGGTAACTGATGCCGTATTTGCAGTACCAGCGTACGGCACAGAATGATGTCACGCTGAAAATGCCGGCCTTTGAATGGGTTCATGTGCAGCTCCATCAGCAAAAGGGGATGATAAGTTTATCACCACCGACTATTTGCAACAGTGCCGAGAAAACTGGTATCCCAGCAGCCAGAAAAGGCCAAAGACAAGTTCGCTGGCACCTGCTGTATCGGTCATAATTTCGGTTGGATTCAGCCCGGTCTCCTGTTCCAGAAGACCTTCCAGCACAAAGATAGAGTCCCTCAGCGTCCCGGTATAACGATGCCATGAAAGCCGGAATACTTGATCGGACACGAAGTTCTACCAGGTGATCCCTCTGTTATTACCAAAGTATTTGCGGTTCGGTCCGGCATTTGGTCTGACTGGCGTAACAAAGCGCATTCCATCTGCAGATGCCACTTCTCCTCCACCCCATATCTGTGCCAGTGGCAGCGTTGCCTGAAAATCAACCAGTCTGGCATTAGCGCTGGTGATAGTTTCAGCCCGCAGATAGTTCGCTTGTCCAGTTCAGCCGGTGTCGGGTCAGTGCAGGAACATTTGATCTGATCAGTGGTTCCAGACCGATATTGCAGGCTTCAGCCATCAGCACGGCGCTGATGCTGACGGGCAGATCATCAACTCTGGCACTGGCTTCGCTGGCATGGAAAAACTCATCAGCAAATCCGGTATGGGCGTTAATTTCGAGCAGCAACTCCGTTAAATCCACCGGAGGGAGTAGATCACTGATCATTTTGCTCAGTCGTTTCAGACTGTCCGGCTCATCAAGACTGGCGAGGGGAGAAATTGTCAACCGGGGCTTTAGGGCCAGAAACATCGAGTTCGACAGCCTCATTTTCGCAAAGACGTGCAGCAACCTGTCTGTAACGACTATCAAGCTGATGACCCAGAGATTTTATTGCTTCCTGCGGGTCTGTCGGGTGCCCCAAAGAACGATAAACCTTAATCCGGTTTGCCTGCCAGTCAGCACCCTGTAGTAATCTTGCACGAGGATCTCCCCACCGGTTACTGCCGGTAACGTAGACATCCCTCCGCCTCAGACTATCCTGCAGTTTACTGAGAAAGCAGAGCGTGTATCCCCTGCGGGTGATATGTTTTTCCTTGTTAATCACCAGCCGTTTCCATGACCGACTGATAATTTCCGTTGGTGCGTCGTCAAAAAACTGCCGCCGTGAGCTGAACTCCCGGCTGAGGTAGTCACAGGCATTCAGAGTGGTAACCCCGGCAGGTGCGGATGAAAATTTAACGGTATTCAGCAGATGGGGCAGGAAACGACGAACGCGCCCGTACTGCTCCACCATTTCTTCATGAAAATTATCGTCTGAGGGCCGGGCAATTTGTCACGGACAAGCGTGATGATTTCAGCCAGCTTTTGCCTTGGGATGTAGCTGAACACCTCAGCACGAATCGATTCGTCCGGTGTTTCTTCTTTCAGCAGGTACGAACATGCGCTGGCGAGCGCCAATGCAGATTTATCCAGATCCTTCAGCGAGCGGAGCCGTTTTTTCTGCCCAATCTTTCTGGCGTCACGGATGATAACGGCCAGCATGGCGTCCAGAACGTCCAATGCATCATCCAGCGCCAGCGTTTCCCATGCAAGGACAAAGGCAACCAGAACCGCCATCCTTTTCTGCGGTGACATCCTGGCAATATTGAACACCGAAGTCATACCAGCATAACGTGCGAGATTTTTCAGGCGCACAGCCGGGAGTGTACTCAGGTTTTCAGCATGCAGGCCAAAATCGTTCAGAGTTTTCCAGCGTTCAATTGCTTCATTAAACGCCGGACCACTGATGGTCACAGGGCCCTTTTTCAGTGATTCCAGTAAAGACAGGCGGCTGCAATCAGGTCGCCACAGCAGCATCTCCAGCTGTGAACGCTGTTCGGCTGACGGTATGAGTGCCAGTTTGTTTCCACAGGCGCAACGTCGCCTTTTCCTACCTCTGAAATCAACCGGGTCAGCGTAGTGGCTCCGGGGAGAATAATACGATGTTGCATAAGCCACCCTGTCGCCAGATCGAAAAGCAGGCCAGGACGTTCGTTGCTTATCCAGCTCCGGGGGCTCTGTTGCAAATAGTCGGTGGTGATAAACTTATCATCCCCTTTTGCTGATGGAGCTGCACATGAACCCATTCAAAGGCCGGCATTTTCAGCGTGACATCATTCTGTGGGCCGTACGCTGGTACTGCAAATACGGCATCAGTTACCGTGAGCTGCAGGAGATGCTGGCTGAACGCGGAGTGAATGTCGATCACTCCAGATTTACCGCTGGGTTCAGCGTTATGCGCCTGAAATGGAAAAACGGCTGCGCTGGTACTGGCGTAACCCTTCCGATCTTTGCCCGTGGCACATGGATGAAACCTACGTGAAGGTCAATGGCCGCTGGGCGTATCTGTACCGGGCCGTCGACAGCCGGGGCCGCACTGTCGATTTTTATCTCTCCTCCCGTCGTAACAGCAAAGCTGCATACCGGTTTCTGGGTAAAATCCTCAACAACGTGAAGAAGTGGCAGATCCCGCGATTCATCAACACGGATAAAGCGCCCGCCTATGGTCGCGCGCTTGCTCTGCTCAAACGCGAAGGCCGGTGCCCGTCTGACGTTAAACACCGACAGATTAAGTACCGGAACAACGTGATTGAATGCGATCATGGCAAACTGAAACGGATAATCGGCGCCACGCTGGGATTTAAATCCATGAAGACGGCTTACGCCACATCAAAGGTATTGAGGTGATGCGTGCACTACGCGAAGGCCAGGCCTCAGCATTTTATTATGGTGATCCCCTGGGCGAAATGCGCCTGGTAAGCAGAGTTTTTGAAATGTAAGGCCTTTGAATAAGACAAAAGGCTGCCTCATCGCTAACTTTGCAACAGTGCCCACCGTTGAACGTCACATCCGGGGCAAATGGGCCTGCGACAGCTGCGGGACCGTCGGA\" ]"
   ]
  },
  {
   "cell_type": "code",
   "execution_count": 23,
   "metadata": {
    "colab": {
     "base_uri": "https://localhost:8080/"
    },
    "executionInfo": {
     "elapsed": 236,
     "status": "ok",
     "timestamp": 1730569198559,
     "user": {
      "displayName": "Martin Benedikt",
      "userId": "14403674078649230072"
     },
     "user_tz": -60
    },
    "id": "USzOET1xpBtg",
    "outputId": "c87dfc5d-0ce9-43c5-9657-58bab7c457f0"
   },
   "outputs": [
    {
     "data": {
      "text/plain": [
       "TokenizationOutput(encodings=[Encoding(num_tokens=6, attributes=[ids, type_ids, tokens, offsets, attention_mask, special_tokens_mask, overflowing])])"
      ]
     },
     "execution_count": 23,
     "metadata": {},
     "output_type": "execute_result"
    }
   ],
   "source": [
    "rs = tokenizer.tokenize(testik)\n",
    "rs"
   ]
  },
  {
   "cell_type": "code",
   "execution_count": 28,
   "metadata": {
    "executionInfo": {
     "elapsed": 248,
     "status": "ok",
     "timestamp": 1730569246834,
     "user": {
      "displayName": "Martin Benedikt",
      "userId": "14403674078649230072"
     },
     "user_tz": -60
    },
    "id": "-6b-3Q1iphUF"
   },
   "outputs": [],
   "source": [
    "ids = rs.encodings\n",
    "encodings = ids[0]"
   ]
  },
  {
   "cell_type": "code",
   "execution_count": 29,
   "metadata": {
    "executionInfo": {
     "elapsed": 220,
     "status": "ok",
     "timestamp": 1730569250335,
     "user": {
      "displayName": "Martin Benedikt",
      "userId": "14403674078649230072"
     },
     "user_tz": -60
    },
    "id": "0br6CGNmshqt"
   },
   "outputs": [],
   "source": [
    "ids = encodings.ids\n",
    "#ids = torch.tensor(ids)"
   ]
  },
  {
   "cell_type": "code",
   "execution_count": 30,
   "metadata": {
    "colab": {
     "base_uri": "https://localhost:8080/"
    },
    "executionInfo": {
     "elapsed": 5,
     "status": "ok",
     "timestamp": 1730569250570,
     "user": {
      "displayName": "Martin Benedikt",
      "userId": "14403674078649230072"
     },
     "user_tz": -60
    },
    "id": "dEud67-j9oIE",
    "outputId": "a1445067-24c7-4218-b821-445736d18b9a"
   },
   "outputs": [
    {
     "data": {
      "text/plain": [
       "[10001, 6543, 97, 188, 582, 10002]"
      ]
     },
     "execution_count": 30,
     "metadata": {},
     "output_type": "execute_result"
    }
   ],
   "source": [
    "ids"
   ]
  },
  {
   "cell_type": "code",
   "execution_count": 32,
   "metadata": {
    "colab": {
     "base_uri": "https://localhost:8080/"
    },
    "executionInfo": {
     "elapsed": 239,
     "status": "ok",
     "timestamp": 1730569325000,
     "user": {
      "displayName": "Martin Benedikt",
      "userId": "14403674078649230072"
     },
     "user_tz": -60
    },
    "id": "EGKAIK9G9zJf",
    "outputId": "b0f9cec5-4e1a-42d5-8a0d-1c2f7138e046"
   },
   "outputs": [
    {
     "name": "stderr",
     "output_type": "stream",
     "text": [
      "<ipython-input-32-06c3ec17d8ab>:1: UserWarning: To copy construct from a tensor, it is recommended to use sourceTensor.clone().detach() or sourceTensor.clone().detach().requires_grad_(True), rather than torch.tensor(sourceTensor).\n",
      "  ids = torch.tensor(ids)\n"
     ]
    }
   ],
   "source": [
    "ids = torch.tensor(ids)\n",
    "ids = ids.to(\"cuda\")"
   ]
  },
  {
   "cell_type": "code",
   "execution_count": 38,
   "metadata": {
    "colab": {
     "base_uri": "https://localhost:8080/",
     "height": 187
    },
    "executionInfo": {
     "elapsed": 239,
     "status": "ok",
     "timestamp": 1730569606999,
     "user": {
      "displayName": "Martin Benedikt",
      "userId": "14403674078649230072"
     },
     "user_tz": -60
    },
    "id": "2rsWM4j-94Pr",
    "outputId": "ff096ff8-4af1-4070-87d7-4c949d49245a"
   },
   "outputs": [
    {
     "data": {
      "text/html": [
       "<div style=\"max-width:800px; border: 1px solid var(--colab-border-color);\"><style>\n",
       "      pre.function-repr-contents {\n",
       "        overflow-x: auto;\n",
       "        padding: 8px 12px;\n",
       "        max-height: 500px;\n",
       "      }\n",
       "\n",
       "      pre.function-repr-contents.function-repr-contents-collapsed {\n",
       "        cursor: pointer;\n",
       "        max-height: 100px;\n",
       "      }\n",
       "    </style>\n",
       "    <pre style=\"white-space: initial; background:\n",
       "         var(--colab-secondary-surface-color); padding: 8px 12px;\n",
       "         border-bottom: 1px solid var(--colab-border-color);\"><b>dna2vec.model.Encoder</b><br/>def _wrapped_call_impl(*args, **kwargs)</pre><pre class=\"function-repr-contents function-repr-contents-collapsed\" style=\"\"><a class=\"filepath\" style=\"display:none\" href=\"#\">/content/drive/MyDrive/dna2vec-7E4E/src/dna2vec/model.py</a>Base class for all neural network modules.\n",
       "\n",
       "Your models should also subclass this class.\n",
       "\n",
       "Modules can also contain other Modules, allowing to nest them in\n",
       "a tree structure. You can assign the submodules as regular attributes::\n",
       "\n",
       "    import torch.nn as nn\n",
       "    import torch.nn.functional as F\n",
       "\n",
       "    class Model(nn.Module):\n",
       "        def __init__(self) -&gt; None:\n",
       "            super().__init__()\n",
       "            self.conv1 = nn.Conv2d(1, 20, 5)\n",
       "            self.conv2 = nn.Conv2d(20, 20, 5)\n",
       "\n",
       "        def forward(self, x):\n",
       "            x = F.relu(self.conv1(x))\n",
       "            return F.relu(self.conv2(x))\n",
       "\n",
       "Submodules assigned in this way will be registered, and will have their\n",
       "parameters converted too when you call :meth:`to`, etc.\n",
       "\n",
       ".. note::\n",
       "    As per the example above, an ``__init__()`` call to the parent class\n",
       "    must be made before assignment on the child.\n",
       "\n",
       ":ivar training: Boolean represents whether this module is in training or\n",
       "                evaluation mode.\n",
       ":vartype training: bool</pre>\n",
       "      <script>\n",
       "      if (google.colab.kernel.accessAllowed && google.colab.files && google.colab.files.view) {\n",
       "        for (const element of document.querySelectorAll('.filepath')) {\n",
       "          element.style.display = 'block'\n",
       "          element.onclick = (event) => {\n",
       "            event.preventDefault();\n",
       "            event.stopPropagation();\n",
       "            google.colab.files.view(element.textContent, 66);\n",
       "          };\n",
       "        }\n",
       "      }\n",
       "      for (const element of document.querySelectorAll('.function-repr-contents')) {\n",
       "        element.onclick = (event) => {\n",
       "          event.preventDefault();\n",
       "          event.stopPropagation();\n",
       "          element.classList.toggle('function-repr-contents-collapsed');\n",
       "        };\n",
       "      }\n",
       "      </script>\n",
       "      </div>"
      ],
      "text/plain": [
       "dna2vec.model.Encoder"
      ]
     },
     "execution_count": 38,
     "metadata": {},
     "output_type": "execute_result"
    }
   ],
   "source": [
    "import torch\n",
    "import torch.nn as nn\n",
    "encoder.load_state_dict(checkpoints['trained']['model']['model'])\n",
    "encoder.to(\"cuda\")\n",
    "encoder.eval()\n",
    "type(encoder)"
   ]
  },
  {
   "cell_type": "code",
   "execution_count": 39,
   "metadata": {
    "colab": {
     "base_uri": "https://localhost:8080/",
     "height": 139
    },
    "executionInfo": {
     "elapsed": 9,
     "status": "ok",
     "timestamp": 1730569632406,
     "user": {
      "displayName": "Martin Benedikt",
      "userId": "14403674078649230072"
     },
     "user_tz": -60
    },
    "id": "CDFx4a20oR_L",
    "outputId": "dfd294fe-f311-4cc3-adfa-19dd4e8ea1e7"
   },
   "outputs": [
    {
     "data": {
      "text/html": [
       "<div style=\"max-width:800px; border: 1px solid var(--colab-border-color);\"><style>\n",
       "      pre.function-repr-contents {\n",
       "        overflow-x: auto;\n",
       "        padding: 8px 12px;\n",
       "        max-height: 500px;\n",
       "      }\n",
       "\n",
       "      pre.function-repr-contents.function-repr-contents-collapsed {\n",
       "        cursor: pointer;\n",
       "        max-height: 100px;\n",
       "      }\n",
       "    </style>\n",
       "    <pre style=\"white-space: initial; background:\n",
       "         var(--colab-secondary-surface-color); padding: 8px 12px;\n",
       "         border-bottom: 1px solid var(--colab-border-color);\"><b>dna2vec.model.AveragePooler</b><br/>def _wrapped_call_impl(*args, **kwargs)</pre><pre class=\"function-repr-contents function-repr-contents-collapsed\" style=\"\"><a class=\"filepath\" style=\"display:none\" href=\"#\">/content/drive/MyDrive/dna2vec-7E4E/src/dna2vec/model.py</a>Parameter-free poolers to get the sentence embedding\n",
       "# derived from https://github.com/princeton-nlp/SimCSE/blob/13361d0e29da1691e313a94f003e2ed1cfa97fef/simcse/models.py#LL49C1-L84C1</pre>\n",
       "      <script>\n",
       "      if (google.colab.kernel.accessAllowed && google.colab.files && google.colab.files.view) {\n",
       "        for (const element of document.querySelectorAll('.filepath')) {\n",
       "          element.style.display = 'block'\n",
       "          element.onclick = (event) => {\n",
       "            event.preventDefault();\n",
       "            event.stopPropagation();\n",
       "            google.colab.files.view(element.textContent, 136);\n",
       "          };\n",
       "        }\n",
       "      }\n",
       "      for (const element of document.querySelectorAll('.function-repr-contents')) {\n",
       "        element.onclick = (event) => {\n",
       "          event.preventDefault();\n",
       "          event.stopPropagation();\n",
       "          element.classList.toggle('function-repr-contents-collapsed');\n",
       "        };\n",
       "      }\n",
       "      </script>\n",
       "      </div>"
      ],
      "text/plain": [
       "dna2vec.model.AveragePooler"
      ]
     },
     "execution_count": 39,
     "metadata": {},
     "output_type": "execute_result"
    }
   ],
   "source": [
    "type(pooling)"
   ]
  },
  {
   "cell_type": "code",
   "execution_count": 14,
   "metadata": {
    "executionInfo": {
     "elapsed": 755,
     "status": "ok",
     "timestamp": 1730571821124,
     "user": {
      "displayName": "Martin Benedikt",
      "userId": "14403674078649230072"
     },
     "user_tz": -60
    },
    "id": "B5o-RVMV_TW6"
   },
   "outputs": [],
   "source": [
    "from evaluate.inference_models import EvalModel\n",
    "import importlib"
   ]
  },
  {
   "cell_type": "code",
   "execution_count": 15,
   "metadata": {
    "executionInfo": {
     "elapsed": 334,
     "status": "ok",
     "timestamp": 1730571822781,
     "user": {
      "displayName": "Martin Benedikt",
      "userId": "14403674078649230072"
     },
     "user_tz": -60
    },
    "id": "FxbwmOXr_ojm"
   },
   "outputs": [],
   "source": [
    "eval = EvalModel(tokenizer,encoder,pooling,\"cuda\")"
   ]
  },
  {
   "cell_type": "code",
   "execution_count": 16,
   "metadata": {
    "colab": {
     "base_uri": "https://localhost:8080/"
    },
    "executionInfo": {
     "elapsed": 1104,
     "status": "ok",
     "timestamp": 1730571828412,
     "user": {
      "displayName": "Martin Benedikt",
      "userId": "14403674078649230072"
     },
     "user_tz": -60
    },
    "id": "2lc1VaRD_tzJ",
    "outputId": "1dfd53aa-de08-486d-b318-17a981b92b77"
   },
   "outputs": [
    {
     "name": "stdout",
     "output_type": "stream",
     "text": [
      "<class 'dict'>\n",
      "torch.Size([2, 1024])\n",
      "tensor([[1, 1, 1,  ..., 0, 0, 0],\n",
      "        [1, 1, 1,  ..., 1, 1, 1]])\n",
      "tensor([[[ 1.8636, -1.8283,  0.5345,  ...,  0.9377,  0.0508,  1.5643],\n",
      "         [ 2.1931,  0.8703,  3.4218,  ...,  0.4206,  0.2964, -1.2915],\n",
      "         [-1.2233, -3.5935,  2.3497,  ...,  1.0265,  1.8611,  1.0281],\n",
      "         ...,\n",
      "         [ 0.5609, -2.9706,  0.6739,  ...,  0.8645,  1.2009, -1.7055],\n",
      "         [-0.3832, -2.6688,  1.5833,  ...,  0.7675,  1.2424, -1.6362],\n",
      "         [-0.5969, -1.8424,  2.2233,  ...,  0.7959,  1.2089, -1.6753]],\n",
      "\n",
      "        [[ 0.9430, -1.5058,  0.5134,  ...,  0.1193,  0.4250,  1.8427],\n",
      "         [ 3.4772, -2.8366,  1.4674,  ...,  2.5052, -2.9344,  0.3487],\n",
      "         [ 0.0531, -1.8145,  0.0237,  ...,  1.3898, -3.2325, -0.4284],\n",
      "         ...,\n",
      "         [ 2.5954, -4.7195, -1.6496,  ..., -1.4562, -0.0224,  1.9695],\n",
      "         [-1.2469, -1.9052,  1.0272,  ...,  1.3629, -1.4493,  2.0867],\n",
      "         [-1.9504, -2.4739, -1.4073,  ...,  1.1780,  0.2243, -1.1343]]],\n",
      "       device='cuda:0')\n"
     ]
    }
   ],
   "source": [
    "result = eval.encode(x=testik)"
   ]
  },
  {
   "cell_type": "code",
   "execution_count": 17,
   "metadata": {
    "colab": {
     "base_uri": "https://localhost:8080/"
    },
    "executionInfo": {
     "elapsed": 5,
     "status": "ok",
     "timestamp": 1730571836829,
     "user": {
      "displayName": "Martin Benedikt",
      "userId": "14403674078649230072"
     },
     "user_tz": -60
    },
    "id": "-ey1jzikBYgo",
    "outputId": "46c03484-a621-4dac-e843-f65bb8285178"
   },
   "outputs": [
    {
     "data": {
      "text/plain": [
       "array([[ 0.9611742 , -0.7612043 ,  0.61234957,  0.50483114, -0.67884994,\n",
       "         0.6867774 , -0.4404798 , -0.30778873, -0.7418396 , -0.6674664 ,\n",
       "        -0.9913722 ,  0.5907081 ,  0.9255988 , -0.36257392, -0.06633726,\n",
       "        -0.90378886,  0.8414747 ,  0.78186774, -0.9729379 ,  0.95220095,\n",
       "        -0.7806844 , -0.04054024,  0.84775   ,  0.04182876,  0.9981296 ,\n",
       "        -0.994875  ,  0.97434354, -0.71173644,  0.51641136,  0.6854536 ,\n",
       "        -0.9686318 , -0.74739724,  0.7393197 ,  0.98619765, -0.93722796,\n",
       "         0.9996523 , -0.9734902 , -0.99608773, -0.8736182 ,  0.5140586 ,\n",
       "         0.6685492 ,  0.92217463,  0.92684525,  0.33477825,  0.00379212,\n",
       "        -0.9207749 , -0.3413658 , -0.321399  , -0.9993366 ,  0.19663596,\n",
       "        -0.7220458 ,  0.94465995,  0.30652997,  0.7481233 ,  0.09841565,\n",
       "         0.84109414,  0.4115205 , -0.22143775, -0.9982247 , -0.04667042,\n",
       "        -0.8538352 , -0.9198355 ,  0.8477285 , -0.6557717 ,  0.99636495,\n",
       "         0.50807124, -0.50219023,  0.9723098 , -0.08537736,  0.70260763,\n",
       "         0.88789886,  0.9862631 ,  0.95779973,  0.8285012 ,  0.9964057 ,\n",
       "         0.14544837, -0.8288991 ,  0.8793863 , -0.46629578,  0.06982573,\n",
       "         0.94418126, -0.9957639 ,  0.60787815,  0.9634676 , -0.94275576,\n",
       "         0.9942586 , -0.26708376, -0.9435322 ,  0.5922897 , -0.0970815 ,\n",
       "         0.38991037, -0.5615487 ,  0.08081776, -0.7618844 , -0.0041571 ,\n",
       "         0.996691  , -0.6894268 ,  0.47208387,  0.87841755, -0.8805209 ,\n",
       "        -0.6897232 , -0.29512098,  0.8604009 ,  0.9327088 ,  0.06386945,\n",
       "        -0.97032064,  0.887392  , -0.21210387, -0.7751071 , -0.6168132 ,\n",
       "        -0.9108264 ,  0.94049233,  0.914024  , -0.88071567,  0.9068272 ,\n",
       "         0.63711596,  0.6104209 ,  0.62503666, -0.76194054,  0.30440673,\n",
       "        -0.876628  , -0.7169933 ,  0.34987608,  0.19895308,  0.36239782,\n",
       "         0.4730817 , -0.2351237 ,  0.9623311 ,  0.87471056,  0.8980365 ,\n",
       "         0.884318  , -0.9427236 , -0.1927459 ,  0.4855256 ,  0.19974379,\n",
       "        -0.5409992 , -0.99337935, -0.9964199 , -0.98889387, -0.3816635 ,\n",
       "        -0.94505477, -0.6409813 ,  0.10990211,  0.5455047 ,  0.9853485 ,\n",
       "         0.7881569 , -0.58930284,  0.92214185,  0.8088954 , -0.99625224,\n",
       "         0.7939504 ,  0.20371039, -0.7989051 , -0.96146625, -0.4353046 ,\n",
       "         0.7090279 ,  0.97009146,  0.3912773 ,  0.9950556 ,  0.8423154 ,\n",
       "        -0.8962956 , -0.77121973, -0.74872637, -0.6883379 ,  0.82011795,\n",
       "        -0.8894567 , -0.40673134,  0.11641813, -0.43043044, -0.7203148 ,\n",
       "         0.97683996,  0.9216091 , -0.32466316, -0.961877  ,  0.890372  ,\n",
       "        -0.98487073,  0.9796141 , -0.4905831 ,  0.9069695 ,  0.8955498 ,\n",
       "        -0.45925888,  0.9760174 ,  0.9929942 ,  0.69014835,  0.9734533 ,\n",
       "         0.9999306 ,  0.70208776,  0.9610682 ,  0.921997  ,  0.6567584 ,\n",
       "         0.8139648 , -0.7394225 ,  0.9167952 ,  0.7074358 , -0.5104881 ,\n",
       "         0.08340423,  0.34997106,  0.85633564,  0.957732  ,  0.5309383 ,\n",
       "        -0.7181203 ,  0.55356824,  0.73984885, -0.18847077,  0.9551958 ,\n",
       "         0.7138442 ,  0.8059    ,  0.9767835 ,  0.6534577 , -0.709132  ,\n",
       "         0.00383895,  0.9997171 ,  0.93840635,  0.85137093,  0.79787946,\n",
       "        -0.37859315,  0.69484866,  0.97378814,  0.95431334, -0.30009034,\n",
       "        -0.8243885 ,  0.9338143 , -0.72262293, -0.6571982 , -0.32620403,\n",
       "        -0.09861984,  0.8116611 ,  0.10431887,  0.38075447,  0.82738477,\n",
       "        -0.9183326 ,  0.9870688 , -0.7987731 ,  0.4898273 , -0.7530377 ,\n",
       "         0.99279183,  0.9839234 , -0.32856306, -0.8146593 ,  0.9707645 ,\n",
       "         0.96677846,  0.94837624, -0.96594465, -0.01730669,  0.86819583,\n",
       "         0.9988984 , -0.6051317 , -0.36901486,  0.59158975, -0.7425842 ,\n",
       "        -0.7574528 ,  0.65680915,  0.23560527,  0.72851163, -0.6305618 ,\n",
       "         0.9756157 , -0.95227987,  0.9787636 ,  0.275718  , -0.2655171 ,\n",
       "        -0.9965072 ,  0.97771716,  0.80352354,  0.3920077 ,  0.36816254,\n",
       "         0.58582824, -0.87128204,  0.8481058 , -0.2013454 ,  0.9972452 ,\n",
       "        -0.9783563 ,  0.19901314, -0.31568804,  0.98522544, -0.33260274,\n",
       "        -0.8372315 ,  0.5011754 , -0.66968447, -0.9107541 ,  0.99172115,\n",
       "        -0.7497176 , -0.2713949 ,  0.45433745,  0.76919824,  0.78584206,\n",
       "         0.6807644 , -0.68201745,  0.4772906 , -0.03436578,  0.92993504,\n",
       "         0.07154281,  0.2278132 ,  0.897365  ,  0.99999684, -0.591255  ,\n",
       "         0.88386554,  0.6561995 , -0.66079426, -0.9099222 , -0.51466125,\n",
       "         0.89095855,  0.37649554,  0.3548529 ,  0.98335505, -0.65978503,\n",
       "         0.9363359 , -0.99981403,  0.93318504, -0.76928973,  0.9986259 ,\n",
       "         0.14640829, -0.7862482 ,  0.862371  , -0.24651118,  0.25063136,\n",
       "         0.6301404 ,  0.8520825 ,  0.9443143 ,  0.87638414,  0.54530644,\n",
       "         0.55035436, -0.80250525, -0.9423065 ,  0.8139961 ,  0.6343489 ,\n",
       "         0.5480894 ,  0.2867525 ,  0.38911223, -0.06812749,  0.08566234,\n",
       "         0.6996964 ,  0.89482224,  0.8153155 ,  0.46077883,  0.99932003,\n",
       "         0.9336209 ,  0.84824926,  0.36578584,  0.8988612 ,  0.9710192 ,\n",
       "         0.6444259 ,  0.53151923,  0.41129017,  0.8485208 ,  0.8760797 ,\n",
       "         0.9361041 ,  0.5449814 ,  0.98176837,  0.9578793 , -0.6934274 ,\n",
       "        -0.76685977,  0.930074  , -0.99472606,  0.5917628 , -0.8243759 ,\n",
       "         0.80328214, -0.77095044,  0.9578701 ,  0.9932145 ,  0.6098845 ,\n",
       "        -0.80902785,  0.99994147, -0.99920154,  0.42907342,  0.59775674,\n",
       "         0.40823582, -0.20767045,  0.2494724 , -0.26946646,  0.61540854,\n",
       "         0.86511093,  0.11777953,  0.87478054,  0.5942928 ,  0.4069984 ,\n",
       "         0.85207635,  0.997704  ,  0.8988541 ,  0.5779257 , -0.20193794,\n",
       "        -0.07342815, -0.33424017, -0.99993753,  0.63200986],\n",
       "       [ 0.27594233, -0.6485121 ,  0.79058707,  0.86321807,  0.73427707,\n",
       "         0.72686785,  0.89776254, -0.95145476, -0.6705774 , -0.7446399 ,\n",
       "        -0.1310771 ,  0.80688536, -0.37850606, -0.931955  ,  0.9977972 ,\n",
       "        -0.42797866,  0.54029655,  0.6234443 , -0.2310667 , -0.30547225,\n",
       "        -0.6249254 ,  0.99917793, -0.5303961 , -0.9991248 , -0.06113311,\n",
       "         0.10111267, -0.22506581, -0.7024466 ,  0.85634065,  0.72811633,\n",
       "        -0.24850024, -0.66437745,  0.67335457, -0.16557196, -0.3487172 ,\n",
       "        -0.02636649, -0.22872885, -0.08836994, -0.48661196,  0.85775506,\n",
       "         0.7436679 , -0.3867736 ,  0.37544367,  0.942297  , -0.99999285,\n",
       "        -0.3900945 , -0.93993056, -0.9469439 , -0.03642032,  0.98047656,\n",
       "        -0.6918453 ,  0.3280511 , -0.951861  ,  0.66355973,  0.9951454 ,\n",
       "         0.54088885,  0.91140056, -0.9751745 ,  0.05956097,  0.99891037,\n",
       "        -0.52054346, -0.39230424,  0.5304304 ,  0.7549593 ,  0.08518696,\n",
       "         0.8613151 , -0.8647572 ,  0.23369548, -0.99634874, -0.7115776 ,\n",
       "        -0.46003857,  0.1651821 ,  0.28743625,  0.5599872 ,  0.08470811,\n",
       "         0.9893659 ,  0.5593981 ,  0.4761089 , -0.88462895,  0.99755925,\n",
       "         0.3294262 ,  0.09194667,  0.79403037,  0.26782513, -0.33348393,\n",
       "        -0.10700388,  0.96367335, -0.33128077, -0.8057251 ,  0.99527645,\n",
       "         0.9208528 , -0.82744366, -0.99672896, -0.64771307,  0.9999913 ,\n",
       "        -0.08128329, -0.7243553 ,  0.88155365,  0.47789392,  0.4740073 ,\n",
       "        -0.72407323,  0.9554599 ,  0.5096177 , -0.3606303 ,  0.9979583 ,\n",
       "        -0.24182184,  0.46101564, -0.9772471 ,  0.6318298 ,  0.7871096 ,\n",
       "         0.4127896 , -0.33981484,  0.40566018, -0.4736453 ,  0.42150253,\n",
       "         0.770768  , -0.7920771 ,  0.78059536, -0.647647  ,  0.95254207,\n",
       "         0.48116893, -0.69708014, -0.93679595, -0.980009  , -0.9320235 ,\n",
       "        -0.8810185 ,  0.9719655 ,  0.27188003, -0.4846457 , -0.43992108,\n",
       "         0.46688515, -0.33357492, -0.9812487 ,  0.8742224 ,  0.97984815,\n",
       "         0.8410231 ,  0.11487995, -0.08454265,  0.14862351, -0.9243014 ,\n",
       "        -0.3269119 , -0.7675565 ,  0.9939424 ,  0.8381077 ,  0.17055252,\n",
       "         0.61547434, -0.8079122 ,  0.38685203, -0.5879525 , -0.08649573,\n",
       "         0.6079826 , -0.9790312 , -0.6014572 , -0.274923  , -0.9002832 ,\n",
       "         0.70518047, -0.24273972,  0.9202728 ,  0.09931894,  0.53898495,\n",
       "        -0.443457  , -0.6365689 , -0.6628792 ,  0.7253902 ,  0.5721945 ,\n",
       "        -0.45701942, -0.9135478 , -0.9932003 , -0.9026237 , -0.6936473 ,\n",
       "        -0.2139715 ,  0.38811922,  0.9458297 ,  0.2734824 ,  0.4552337 ,\n",
       "        -0.17329057, -0.20088859, -0.8713944 ,  0.4211963 ,  0.4449615 ,\n",
       "        -0.8883025 ,  0.21769243,  0.11816324,  0.72366786, -0.22888593,\n",
       "         0.0117791 , -0.7120904 ,  0.2763111 ,  0.3871969 , -0.75410104,\n",
       "         0.58091426, -0.6732416 ,  0.39935762,  0.7067776 ,  0.85988486,\n",
       "        -0.99651575,  0.9367605 ,  0.5164197 ,  0.28766203, -0.84741044,\n",
       "        -0.69591904, -0.8328037 ,  0.6727731 , -0.98207885, -0.29597476,\n",
       "         0.70030457, -0.5920517 ,  0.21422839, -0.75696295, -0.7050757 ,\n",
       "         0.99999267, -0.02378208,  0.34553376,  0.52456415,  0.6028171 ,\n",
       "        -0.9255632 ,  0.719156  ,  0.22745687,  0.29880765, -0.95391077,\n",
       "        -0.56602424,  0.35775825, -0.6912424 , -0.7537178 , -0.9452994 ,\n",
       "         0.9951252 ,  0.5841286 , -0.99454385, -0.92467624,  0.5616354 ,\n",
       "        -0.39580962, -0.16029747, -0.6016324 , -0.87181944, -0.6579774 ,\n",
       "         0.11985165,  0.178591  , -0.9444821 , -0.5799399 ,  0.2400339 ,\n",
       "         0.25561568, -0.3171475 ,  0.25874898, -0.99985015,  0.4962218 ,\n",
       "        -0.04692717,  0.7961254 , -0.9294235 ,  0.8062391 , -0.6697527 ,\n",
       "        -0.6528899 , -0.7540568 , -0.9718488 ,  0.68503344,  0.776139  ,\n",
       "         0.21948583, -0.3052262 ,  0.20499234,  0.9612386 ,  0.9641062 ,\n",
       "         0.08350638, -0.20992656,  0.595273  ,  0.9199619 ,  0.92976147,\n",
       "         0.81043524,  0.49078268, -0.52982706,  0.9795203 , -0.07417607,\n",
       "        -0.20692731,  0.9799968 ,  0.948863  , -0.17126283, -0.943067  ,\n",
       "        -0.5468485 ,  0.8653457 , -0.74264574,  0.41294932, -0.12840998,\n",
       "        -0.6617578 ,  0.962468  ,  0.8908296 ,  0.6390102 ,  0.61842716,\n",
       "         0.73250246,  0.73133594,  0.87874556,  0.9994093 ,  0.36772385,\n",
       "         0.9974375 ,  0.9737049 ,  0.44128922,  0.0025313 , -0.80648464,\n",
       "         0.4677412 ,  0.7545874 , -0.7505671 , -0.41477913, -0.85739356,\n",
       "        -0.45408466,  0.9264184 ,  0.93492216,  0.18169424,  0.7514544 ,\n",
       "         0.35110554, -0.01928266,  0.35939625, -0.6389001 ,  0.05240612,\n",
       "         0.98922426, -0.6179108 ,  0.5062769 , -0.96913993, -0.9680826 ,\n",
       "        -0.7764813 , -0.52340746,  0.32904488,  0.4816129 ,  0.8382368 ,\n",
       "         0.83493125, -0.5966451 ,  0.33475116,  0.58087033,  0.7730469 ,\n",
       "         0.8364198 , -0.95800465,  0.9211903 ,  0.99767655,  0.99632424,\n",
       "        -0.71444035,  0.44642285,  0.5790169 ,  0.88751495,  0.03686921,\n",
       "         0.35826257,  0.52959716,  0.93069905,  0.43823335,  0.23900148,\n",
       "        -0.7646667 ,  0.8470462 , -0.9115045 ,  0.5291621 ,  0.48216635,\n",
       "         0.3517231 ,  0.8384481 ,  0.19008133,  0.287171  , -0.7205266 ,\n",
       "        -0.64181465,  0.36737224, -0.10256713,  0.8061122 , -0.56604266,\n",
       "         0.59559864, -0.6368952 , -0.28720164, -0.11629737,  0.79249024,\n",
       "        -0.58777034, -0.01082471,  0.03995494,  0.9032696 , -0.8016776 ,\n",
       "         0.9128766 , -0.9781989 ,  0.96838194, -0.9630098 ,  0.7882083 ,\n",
       "         0.5015806 ,  0.9930397 ,  0.48451927,  0.80424875,  0.91342884,\n",
       "         0.52341753, -0.0677257 , -0.4382481 ,  0.81608945, -0.9793983 ,\n",
       "         0.99730045, -0.9424879 , -0.01117944,  0.77496034]],\n",
       "      dtype=float32)"
      ]
     },
     "execution_count": 17,
     "metadata": {},
     "output_type": "execute_result"
    }
   ],
   "source": [
    "result"
   ]
  },
  {
   "cell_type": "code",
   "execution_count": 20,
   "metadata": {
    "executionInfo": {
     "elapsed": 245,
     "status": "ok",
     "timestamp": 1730571875378,
     "user": {
      "displayName": "Martin Benedikt",
      "userId": "14403674078649230072"
     },
     "user_tz": -60
    },
    "id": "RUxFk7VmHpcf"
   },
   "outputs": [],
   "source": [
    "vek1 = torch.tensor(result[0])"
   ]
  },
  {
   "cell_type": "code",
   "execution_count": 21,
   "metadata": {
    "executionInfo": {
     "elapsed": 217,
     "status": "ok",
     "timestamp": 1730571886129,
     "user": {
      "displayName": "Martin Benedikt",
      "userId": "14403674078649230072"
     },
     "user_tz": -60
    },
    "id": "teqeeXQdHuxI"
   },
   "outputs": [],
   "source": [
    "vek2 = torch.tensor(result[1])"
   ]
  },
  {
   "cell_type": "code",
   "execution_count": 23,
   "metadata": {
    "colab": {
     "base_uri": "https://localhost:8080/"
    },
    "executionInfo": {
     "elapsed": 235,
     "status": "ok",
     "timestamp": 1730571952555,
     "user": {
      "displayName": "Martin Benedikt",
      "userId": "14403674078649230072"
     },
     "user_tz": -60
    },
    "id": "-_tHXdG8H1v2",
    "outputId": "af407bf8-2716-48d4-f8c4-91a6d34fb0ed"
   },
   "outputs": [
    {
     "data": {
      "text/plain": [
       "tensor(0.3372)"
      ]
     },
     "execution_count": 23,
     "metadata": {},
     "output_type": "execute_result"
    }
   ],
   "source": [
    "cos = torch.nn.CosineSimilarity(dim=0, eps=1e-6)\n",
    "output = cos(vek1, vek2)\n",
    "output"
   ]
  },
  {
   "cell_type": "code",
   "execution_count": 17,
   "metadata": {
    "colab": {
     "base_uri": "https://localhost:8080/"
    },
    "executionInfo": {
     "elapsed": 725,
     "status": "ok",
     "timestamp": 1730573189383,
     "user": {
      "displayName": "Martin Benedikt",
      "userId": "14403674078649230072"
     },
     "user_tz": -60
    },
    "id": "U_sq6XsbJ7T8",
    "outputId": "fa36c01a-2211-465d-ed58-ea3f54e41be0"
   },
   "outputs": [
    {
     "name": "stderr",
     "output_type": "stream",
     "text": [
      "<ipython-input-17-f8c2fc3a8c7e>:16: FutureWarning: You are using `torch.load` with `weights_only=False` (the current default value), which uses the default pickle module implicitly. It is possible to construct malicious pickle data which will execute arbitrary code during unpickling (See https://github.com/pytorch/pytorch/blob/main/SECURITY.md#untrusted-models for more details). In a future release, the default value for `weights_only` will be flipped to `True`. This limits the functions that could be executed during unpickling. Arbitrary objects will no longer be allowed to be loaded via this mode unless they are explicitly allowlisted by the user via `torch.serialization.add_safe_globals`. We recommend you start setting `weights_only=True` for any use case where you don't have full control of the loaded file. Please open an issue on GitHub for any issues related to this experimental feature.\n",
      "  checkpoints['trained']['model'] = torch.load(\"/content/drive/MyDrive/dna2vec-7E4E/models/checkpoint.pt\")\n"
     ]
    },
    {
     "name": "stdout",
     "output_type": "stream",
     "text": [
      "src/model/tokenizers/dna_tokenizer_10k.json\n"
     ]
    }
   ],
   "source": [
    "import torch\n",
    "import torch.nn as nn\n",
    "import transformers\n",
    "import sys\n",
    "from evaluate.inference_models import EvalModel\n",
    "from dna2vec.model import model_from_config\n",
    "from dna2vec.tokenizer import BPTokenizer\n",
    "from tokenizers import Encoding, Tokenizer, decoders, models, pre_tokenizers, processors\n",
    "from tokenizers.trainers import BpeTrainer\n",
    "from typing import List\n",
    "sys.path.append(\"/content/drive/MyDrive/dna2vec-7E4E/src\")\n",
    "\n",
    "\n",
    "checkpoints = {}\n",
    "checkpoints['trained'] = {}\n",
    "checkpoints['trained']['model'] = torch.load(\"/content/drive/MyDrive/dna2vec-7E4E/models/checkpoint.pt\")\n",
    "config = checkpoints['trained']['model']['config']\n",
    "config.model_config.tokenizer_path = 'src/model/tokenizers/dna_tokenizer_10k.json'\n",
    "model_kwargs = config.dict()\n",
    "encoder, pooling, tokenizer = model_from_config(config.model_config)\n",
    "#encoder.load_state_dict(checkpoints['trained']['model']['model'])\n",
    "eval = EvalModel(tokenizer,encoder,pooling,\"cuda\")\n",
    "\n",
    "\n",
    "\n",
    "def inference_wrapper(gen, eval):\n",
    "  result = eval.encode(x=gen)\n",
    "  return result"
   ]
  },
  {
   "cell_type": "code",
   "execution_count": 18,
   "metadata": {
    "colab": {
     "base_uri": "https://localhost:8080/"
    },
    "executionInfo": {
     "elapsed": 251,
     "status": "ok",
     "timestamp": 1730573190852,
     "user": {
      "displayName": "Martin Benedikt",
      "userId": "14403674078649230072"
     },
     "user_tz": -60
    },
    "id": "btb2K8awLP81",
    "outputId": "78082110-b213-467a-d4d4-3a5e8e903d68"
   },
   "outputs": [
    {
     "name": "stdout",
     "output_type": "stream",
     "text": [
      "tensor([[[ 0.5197,  2.3748, -2.0572,  ..., -0.7413, -2.9008,  0.2169],\n",
      "         [ 0.9529,  0.2788,  0.1147,  ...,  0.9506,  2.7652, -0.9514],\n",
      "         [ 0.2472, -1.2195,  1.1925,  ..., -1.2178,  2.0414, -0.3758],\n",
      "         ...,\n",
      "         [ 0.8508,  1.8514, -1.8016,  ...,  3.0592,  1.4746,  2.2116],\n",
      "         [-0.3372,  2.0652, -0.7634,  ...,  2.9379,  1.2979,  2.3680],\n",
      "         [-0.6742,  2.8477,  0.1298,  ...,  2.7889,  1.2342,  2.4355]],\n",
      "\n",
      "        [[ 0.6319,  1.8678, -1.6168,  ..., -0.3590, -3.4633, -0.0085],\n",
      "         [ 2.6359,  1.4874,  0.0489,  ...,  1.0386, -1.2438,  1.8471],\n",
      "         [-0.6795, -1.7630,  1.1405,  ..., -1.1994, -0.7992,  0.9620],\n",
      "         ...,\n",
      "         [ 1.2567, -1.1564,  1.3544,  ..., -0.8708,  0.2775,  0.9423],\n",
      "         [-1.0411,  0.7792,  1.1130,  ...,  1.3147, -1.5044,  0.6018],\n",
      "         [ 1.1623, -2.7192,  0.7332,  ..., -0.8995,  0.2982, -1.0259]]],\n",
      "       device='cuda:0')\n"
     ]
    }
   ],
   "source": [
    "ress = inference_wrapper(testik, eval)"
   ]
  },
  {
   "cell_type": "code",
   "execution_count": 19,
   "metadata": {
    "colab": {
     "base_uri": "https://localhost:8080/"
    },
    "executionInfo": {
     "elapsed": 252,
     "status": "ok",
     "timestamp": 1730573193745,
     "user": {
      "displayName": "Martin Benedikt",
      "userId": "14403674078649230072"
     },
     "user_tz": -60
    },
    "id": "_hM9gpEDLkU8",
    "outputId": "0888cf34-741a-43e2-ce21-f17c82a30f44"
   },
   "outputs": [
    {
     "data": {
      "text/plain": [
       "tensor(0.0324)"
      ]
     },
     "execution_count": 19,
     "metadata": {},
     "output_type": "execute_result"
    }
   ],
   "source": [
    "vek1 = torch.tensor(ress[0])\n",
    "vek2 = torch.tensor(ress[1])\n",
    "cos = torch.nn.CosineSimilarity(dim=0, eps=1e-6)\n",
    "output = cos(vek1, vek2)\n",
    "output"
   ]
  },
  {
   "cell_type": "code",
   "execution_count": null,
   "metadata": {
    "id": "Pnba_jyiLqbc"
   },
   "outputs": [],
   "source": []
  }
 ],
 "metadata": {
  "accelerator": "GPU",
  "colab": {
   "authorship_tag": "ABX9TyMUA33/scx89P5pJ/V0X68P",
   "gpuType": "A100",
   "provenance": []
  },
  "kernelspec": {
   "display_name": "Python 3 (ipykernel)",
   "language": "python",
   "name": "python3"
  },
  "language_info": {
   "codemirror_mode": {
    "name": "ipython",
    "version": 3
   },
   "file_extension": ".py",
   "mimetype": "text/x-python",
   "name": "python",
   "nbconvert_exporter": "python",
   "pygments_lexer": "ipython3",
   "version": "3.11.7"
  }
 },
 "nbformat": 4,
 "nbformat_minor": 4
}
